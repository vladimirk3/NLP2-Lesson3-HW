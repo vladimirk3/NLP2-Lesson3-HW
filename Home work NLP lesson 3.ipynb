{
 "cells": [
  {
   "cell_type": "code",
   "execution_count": 176,
   "metadata": {},
   "outputs": [
    {
     "name": "stdout",
     "output_type": "stream",
     "text": [
      "Populating the interactive namespace from numpy and matplotlib\n"
     ]
    },
    {
     "name": "stderr",
     "output_type": "stream",
     "text": [
      "[nltk_data] Downloading package punkt to\n",
      "[nltk_data]     C:\\Users\\Vladimir\\AppData\\Roaming\\nltk_data...\n",
      "[nltk_data]   Package punkt is already up-to-date!\n"
     ]
    }
   ],
   "source": [
    "import numpy as np\n",
    "import pandas as pd\n",
    "\n",
    "import json\n",
    "import bz2\n",
    "\n",
    "import regex\n",
    "\n",
    "from bs4 import BeautifulSoup\n",
    "\n",
    "import gensim\n",
    "from gensim.models import word2vec \n",
    "from gensim.corpora import Dictionary\n",
    "from gensim.models import TfidfModel\n",
    "from gensim.models import LdaMulticore\n",
    "from gensim.models import lsimodel\n",
    "\n",
    "import nltk\n",
    "import nltk.data\n",
    "from nltk.tokenize import sent_tokenize, RegexpTokenizer\n",
    "from nltk.corpus import stopwords\n",
    "from nltk.tokenize import word_tokenize\n",
    "\n",
    "from nltk.corpus import stopwords\n",
    "from pymorphy2 import MorphAnalyzer\n",
    "nltk.download('punkt')\n",
    "\n",
    "from tqdm import tqdm\n",
    "from scipy import sparse\n",
    "import matplotlib.pyplot as plt\n",
    "import seaborn as sns\n",
    "%matplotlib inline\n",
    "%pylab inline\n",
    "\n",
    "\n",
    "from sklearn.model_selection import train_test_split\n",
    "from sklearn.linear_model import LogisticRegression\n",
    "from sklearn.model_selection import cross_val_score\n",
    "from sklearn.feature_extraction.text import TfidfVectorizer\n",
    "from sklearn.feature_extraction.text import CountVectorizer\n",
    "\n",
    "from sklearn.decomposition import TruncatedSVD\n",
    "from sklearn.decomposition import LatentDirichletAllocation\n",
    "from sklearn.datasets import make_multilabel_classification\n",
    "from sklearn.metrics import classification_report\n",
    "from scipy.sparse import csr_matrix\n",
    "\n",
    "from sklearn.pipeline import Pipeline\n",
    "\n",
    "import torch\n",
    "import warnings\n",
    "warnings.filterwarnings('ignore')"
   ]
  },
  {
   "cell_type": "code",
   "execution_count": 2,
   "metadata": {},
   "outputs": [
    {
     "name": "stderr",
     "output_type": "stream",
     "text": [
      "201030it [02:02, 1645.71it/s]\n"
     ]
    }
   ],
   "source": [
    "responses = []\n",
    "with bz2.BZ2File('banki_responses.json.bz2', 'r') as thefile:\n",
    "    for row in tqdm(thefile):\n",
    "        resp = json.loads(row)\n",
    "        if not resp['rating_not_checked'] and (len(resp['text'].split()) > 0):\n",
    "            responses.append(resp)"
   ]
  },
  {
   "cell_type": "code",
   "execution_count": 3,
   "metadata": {},
   "outputs": [
    {
     "data": {
      "text/plain": [
       "{'city': 'г. Москва',\n",
       " 'rating_not_checked': False,\n",
       " 'title': 'Жалоба',\n",
       " 'num_comments': 0,\n",
       " 'bank_license': 'лицензия № 2562',\n",
       " 'author': 'uhnov1',\n",
       " 'bank_name': 'Бинбанк',\n",
       " 'datetime': '2015-06-08 12:50:54',\n",
       " 'text': 'Добрый день! Я не являюсь клиентом банка и поручителем по кредитному договору, а также не являюсь каким-либо другим лицом, письменно  оформившим отношения с банком по поводу урегулирования чьей-либо  задолженности.  Начиная с марта 2015 года начали приходить бесконечные письма из ООО \"Примо коллект\"на мой адрес: город Москва, Уваровский переулок, дом 10, квартира 111, с угрозами о возбуждении уголовного дела в отношении гражданина Филиппова Эдуарда Владимировича, который уклоняется от уплаты взятых им кредитов: договор № 81014 от 20.10.2013 года и договор № 2464946 от 09.10.2014 года. Со всей ответственностью\\xa0 хочу Вас заверить, что вышеуказанный гражданин, которого Вы разыскиваете, мне не знаком и никогда в моем адресе не был зарегистрирован. Каким образом Вы не удостоверившись в подлинности его документов оформили на его имя кредитный договор, мне по меньшей мере не понятно,\\xa0 и почему по Вашей милости я должна переживать и бояться за себе и свое имущество. Письма доставляют мне серьезные неудобства, нарушают мои гражданские права, а также нарушают закон о защите персональных данных. Убедительно прошу прекратить посылать на мой адрес письма с угрозами по вопросам, к которым я не имею отношения. В случае отклонения моей претензии буду вынуждена обратиться с жалобами в  другие органы: Росспотребнадзор, Центральный банк, Службу Финансового  омбудсмена. Кроме этого будет подано заявление в полицию и заявление в  суд возмещение причиненного мне морального вреда. Надеюсь на скорое решение моего вопроса.',\n",
       " 'rating_grade': None}"
      ]
     },
     "execution_count": 3,
     "metadata": {},
     "output_type": "execute_result"
    }
   ],
   "source": [
    "responses[0]"
   ]
  },
  {
   "cell_type": "code",
   "execution_count": 4,
   "metadata": {},
   "outputs": [],
   "source": [
    "def json_to_pd(review):\n",
    "    city = []\n",
    "    rating_not_checked = []\n",
    "    title = []\n",
    "    num_comments = []\n",
    "    bank_license = []\n",
    "    author = []\n",
    "    bank_name = []\n",
    "    datetime = []\n",
    "    text = []\n",
    "    rating_grade = []\n",
    "    \n",
    "    for rec in review:\n",
    "        city.append(rec['city'])\n",
    "        rating_not_checked.append(rec['rating_not_checked'])\n",
    "        title.append(rec['title'])\n",
    "        num_comments.append(rec['num_comments'])\n",
    "        bank_license.append(rec['bank_license'])\n",
    "        author.append(rec['author'])\n",
    "        bank_name.append(rec['bank_name'])\n",
    "        datetime.append(rec['datetime'])\n",
    "        text.append(rec['text'])\n",
    "        rating_grade.append(rec['rating_grade'])\n",
    "    return pd.DataFrame(\n",
    "        {\n",
    "            'city': city,\n",
    "            'rating_not_checked': rating_not_checked,\n",
    "            'title': title,\n",
    "            'num_comments': num_comments,\n",
    "            'bank_license': bank_license,\n",
    "            'author': author,\n",
    "            'bank_name': bank_name,\n",
    "            'datetime': datetime,\n",
    "            'text': text,\n",
    "            'rating_grade': rating_grade\n",
    "            \n",
    "        }\n",
    "    )\n",
    "        "
   ]
  },
  {
   "cell_type": "code",
   "execution_count": 5,
   "metadata": {},
   "outputs": [],
   "source": [
    "df = json_to_pd(responses)"
   ]
  },
  {
   "cell_type": "code",
   "execution_count": 6,
   "metadata": {},
   "outputs": [
    {
     "data": {
      "text/html": [
       "<div>\n",
       "<style scoped>\n",
       "    .dataframe tbody tr th:only-of-type {\n",
       "        vertical-align: middle;\n",
       "    }\n",
       "\n",
       "    .dataframe tbody tr th {\n",
       "        vertical-align: top;\n",
       "    }\n",
       "\n",
       "    .dataframe thead th {\n",
       "        text-align: right;\n",
       "    }\n",
       "</style>\n",
       "<table border=\"1\" class=\"dataframe\">\n",
       "  <thead>\n",
       "    <tr style=\"text-align: right;\">\n",
       "      <th></th>\n",
       "      <th>city</th>\n",
       "      <th>rating_not_checked</th>\n",
       "      <th>title</th>\n",
       "      <th>num_comments</th>\n",
       "      <th>bank_license</th>\n",
       "      <th>author</th>\n",
       "      <th>bank_name</th>\n",
       "      <th>datetime</th>\n",
       "      <th>text</th>\n",
       "      <th>rating_grade</th>\n",
       "    </tr>\n",
       "  </thead>\n",
       "  <tbody>\n",
       "    <tr>\n",
       "      <th>0</th>\n",
       "      <td>г. Москва</td>\n",
       "      <td>False</td>\n",
       "      <td>Жалоба</td>\n",
       "      <td>0</td>\n",
       "      <td>лицензия № 2562</td>\n",
       "      <td>uhnov1</td>\n",
       "      <td>Бинбанк</td>\n",
       "      <td>2015-06-08 12:50:54</td>\n",
       "      <td>Добрый день! Я не являюсь клиентом банка и пор...</td>\n",
       "      <td>NaN</td>\n",
       "    </tr>\n",
       "    <tr>\n",
       "      <th>1</th>\n",
       "      <td>г. Новосибирск</td>\n",
       "      <td>False</td>\n",
       "      <td>Не могу пользоваться услугой Сбербанк он-лайн</td>\n",
       "      <td>0</td>\n",
       "      <td>лицензия № 1481</td>\n",
       "      <td>Foryou</td>\n",
       "      <td>Сбербанк России</td>\n",
       "      <td>2015-06-08 11:09:57</td>\n",
       "      <td>Доброго дня! Являюсь держателем зарплатной кар...</td>\n",
       "      <td>NaN</td>\n",
       "    </tr>\n",
       "    <tr>\n",
       "      <th>2</th>\n",
       "      <td>г. Москва</td>\n",
       "      <td>False</td>\n",
       "      <td>Двойное списание за один товар.</td>\n",
       "      <td>1</td>\n",
       "      <td>лицензия № 2562</td>\n",
       "      <td>Vladimir84</td>\n",
       "      <td>Бинбанк</td>\n",
       "      <td>2015-06-05 20:14:28</td>\n",
       "      <td>Здравствуйте!  Дублирую свое заявление от 03.0...</td>\n",
       "      <td>NaN</td>\n",
       "    </tr>\n",
       "  </tbody>\n",
       "</table>\n",
       "</div>"
      ],
      "text/plain": [
       "             city  rating_not_checked  \\\n",
       "0       г. Москва               False   \n",
       "1  г. Новосибирск               False   \n",
       "2       г. Москва               False   \n",
       "\n",
       "                                           title  num_comments  \\\n",
       "0                                         Жалоба             0   \n",
       "1  Не могу пользоваться услугой Сбербанк он-лайн             0   \n",
       "2                Двойное списание за один товар.             1   \n",
       "\n",
       "      bank_license      author        bank_name             datetime  \\\n",
       "0  лицензия № 2562      uhnov1          Бинбанк  2015-06-08 12:50:54   \n",
       "1  лицензия № 1481      Foryou  Сбербанк России  2015-06-08 11:09:57   \n",
       "2  лицензия № 2562  Vladimir84          Бинбанк  2015-06-05 20:14:28   \n",
       "\n",
       "                                                text  rating_grade  \n",
       "0  Добрый день! Я не являюсь клиентом банка и пор...           NaN  \n",
       "1  Доброго дня! Являюсь держателем зарплатной кар...           NaN  \n",
       "2  Здравствуйте!  Дублирую свое заявление от 03.0...           NaN  "
      ]
     },
     "execution_count": 6,
     "metadata": {},
     "output_type": "execute_result"
    }
   ],
   "source": [
    "df.head(3)"
   ]
  },
  {
   "cell_type": "code",
   "execution_count": 7,
   "metadata": {},
   "outputs": [
    {
     "name": "stdout",
     "output_type": "stream",
     "text": [
      "<class 'pandas.core.frame.DataFrame'>\n",
      "RangeIndex: 153499 entries, 0 to 153498\n",
      "Data columns (total 10 columns):\n",
      " #   Column              Non-Null Count   Dtype  \n",
      "---  ------              --------------   -----  \n",
      " 0   city                138325 non-null  object \n",
      " 1   rating_not_checked  153499 non-null  bool   \n",
      " 2   title               153499 non-null  object \n",
      " 3   num_comments        153499 non-null  int64  \n",
      " 4   bank_license        153498 non-null  object \n",
      " 5   author              153479 non-null  object \n",
      " 6   bank_name           153499 non-null  object \n",
      " 7   datetime            153499 non-null  object \n",
      " 8   text                153499 non-null  object \n",
      " 9   rating_grade        88658 non-null   float64\n",
      "dtypes: bool(1), float64(1), int64(1), object(7)\n",
      "memory usage: 10.7+ MB\n"
     ]
    }
   ],
   "source": [
    "df.info()"
   ]
  },
  {
   "cell_type": "code",
   "execution_count": 8,
   "metadata": {},
   "outputs": [],
   "source": [
    "# отфильтруем только записи, содержащие ненулевой рейтинг\n",
    "df_score = df[(df['rating_grade'].isna() == False) & (df['text'].isna() == False)].reset_index()[['text', 'rating_grade']]"
   ]
  },
  {
   "cell_type": "code",
   "execution_count": 9,
   "metadata": {},
   "outputs": [
    {
     "data": {
      "text/html": [
       "<div>\n",
       "<style scoped>\n",
       "    .dataframe tbody tr th:only-of-type {\n",
       "        vertical-align: middle;\n",
       "    }\n",
       "\n",
       "    .dataframe tbody tr th {\n",
       "        vertical-align: top;\n",
       "    }\n",
       "\n",
       "    .dataframe thead th {\n",
       "        text-align: right;\n",
       "    }\n",
       "</style>\n",
       "<table border=\"1\" class=\"dataframe\">\n",
       "  <thead>\n",
       "    <tr style=\"text-align: right;\">\n",
       "      <th></th>\n",
       "      <th>text</th>\n",
       "      <th>rating_grade</th>\n",
       "    </tr>\n",
       "  </thead>\n",
       "  <tbody>\n",
       "    <tr>\n",
       "      <th>0</th>\n",
       "      <td>Также как и многие давний клиент банка, был до...</td>\n",
       "      <td>2.0</td>\n",
       "    </tr>\n",
       "    <tr>\n",
       "      <th>1</th>\n",
       "      <td>Открыт вклад и счет в USD. Плюс к этому есть з...</td>\n",
       "      <td>1.0</td>\n",
       "    </tr>\n",
       "    <tr>\n",
       "      <th>2</th>\n",
       "      <td>Доброго времени! Вчера мне поступило смс-уведо...</td>\n",
       "      <td>1.0</td>\n",
       "    </tr>\n",
       "    <tr>\n",
       "      <th>3</th>\n",
       "      <td>05.06.2015г. около 15 часов, пришел в указанны...</td>\n",
       "      <td>1.0</td>\n",
       "    </tr>\n",
       "    <tr>\n",
       "      <th>4</th>\n",
       "      <td>Для оплаты коммунальных платежей пользуюсь пла...</td>\n",
       "      <td>1.0</td>\n",
       "    </tr>\n",
       "    <tr>\n",
       "      <th>...</th>\n",
       "      <td>...</td>\n",
       "      <td>...</td>\n",
       "    </tr>\n",
       "    <tr>\n",
       "      <th>88653</th>\n",
       "      <td>Слишком большой банк, не всегда учитывает нашу...</td>\n",
       "      <td>5.0</td>\n",
       "    </tr>\n",
       "    <tr>\n",
       "      <th>88654</th>\n",
       "      <td>Вы сами виноваты в своих проблемах, кроме пред...</td>\n",
       "      <td>3.0</td>\n",
       "    </tr>\n",
       "    <tr>\n",
       "      <th>88655</th>\n",
       "      <td>Уважаемое руководство банка «ОВК»! Я проживаю ...</td>\n",
       "      <td>1.0</td>\n",
       "    </tr>\n",
       "    <tr>\n",
       "      <th>88656</th>\n",
       "      <td>Пробовала 10.04.05 оформить товар в кредит в А...</td>\n",
       "      <td>1.0</td>\n",
       "    </tr>\n",
       "    <tr>\n",
       "      <th>88657</th>\n",
       "      <td>Если коротко, то мне нравится. Кридит получать...</td>\n",
       "      <td>5.0</td>\n",
       "    </tr>\n",
       "  </tbody>\n",
       "</table>\n",
       "<p>88658 rows × 2 columns</p>\n",
       "</div>"
      ],
      "text/plain": [
       "                                                    text  rating_grade\n",
       "0      Также как и многие давний клиент банка, был до...           2.0\n",
       "1      Открыт вклад и счет в USD. Плюс к этому есть з...           1.0\n",
       "2      Доброго времени! Вчера мне поступило смс-уведо...           1.0\n",
       "3      05.06.2015г. около 15 часов, пришел в указанны...           1.0\n",
       "4      Для оплаты коммунальных платежей пользуюсь пла...           1.0\n",
       "...                                                  ...           ...\n",
       "88653  Слишком большой банк, не всегда учитывает нашу...           5.0\n",
       "88654  Вы сами виноваты в своих проблемах, кроме пред...           3.0\n",
       "88655  Уважаемое руководство банка «ОВК»! Я проживаю ...           1.0\n",
       "88656  Пробовала 10.04.05 оформить товар в кредит в А...           1.0\n",
       "88657  Если коротко, то мне нравится. Кридит получать...           5.0\n",
       "\n",
       "[88658 rows x 2 columns]"
      ]
     },
     "execution_count": 9,
     "metadata": {},
     "output_type": "execute_result"
    }
   ],
   "source": [
    "df_score"
   ]
  },
  {
   "cell_type": "code",
   "execution_count": 10,
   "metadata": {},
   "outputs": [],
   "source": [
    "def review_to_wordlist(review, lemmatizer, remove_stopwords=False):\n",
    "    # убираем ссылки\n",
    "    review_text = re.sub(r\"http[s]?://(?:[a-zA-Z]|[0-9]|[$-_@.&+]|[!*\\(\\),]|(?:%[0-9a-fA-F][0-9a-fA-F]))+\", \" \", review)\n",
    "    # достаем сам текст\n",
    "    # review_text = BeautifulSoup(review_text, \"lxml\").get_text()\n",
    "    # оставляем только буквенные символы\n",
    "    review_text = re.sub(\"[^а-яА-ЯёЁ]\",\" \", review_text)\n",
    "    # приводим к нижнему регистру и разбиваем на слова по символу пробела\n",
    "    words = review_text.lower().split()\n",
    "    if remove_stopwords: # убираем стоп-слова\n",
    "        russian_stopwords = stopwords.words(\"russian\")\n",
    "        #stops = stopwords.words(\"english\")\n",
    "        words = [w for w in words if not w in russian_stopwords]\n",
    "    if lemmatizer:\n",
    "        return([lemmatizer.parse(word)[0].normal_form for word in words])\n",
    "    else:\n",
    "        return words\n",
    "    \n",
    "def review_to_sentences(review, tokenizer, lemmatizer = None, remove_stopwords=False):\n",
    "    # разбиваем обзор на предложения\n",
    "    raw_sentences = tokenizer.tokenize(review.strip())\n",
    "    sentences = []\n",
    "    # применяем предыдущую функцию к каждому предложению\n",
    "    for raw_sentence in raw_sentences:\n",
    "        if len(raw_sentence) > 0:\n",
    "            sentences.append(review_to_wordlist(raw_sentence, lemmatizer, remove_stopwords))\n",
    "    return sentences"
   ]
  },
  {
   "cell_type": "code",
   "execution_count": 19,
   "metadata": {},
   "outputs": [
    {
     "name": "stdout",
     "output_type": "stream",
     "text": [
      "Parsing sentences...\n"
     ]
    },
    {
     "name": "stderr",
     "output_type": "stream",
     "text": [
      "100%|█████████████████████████████████████████████████████████████████████████| 153499/153499 [03:42<00:00, 691.17it/s]\n"
     ]
    }
   ],
   "source": [
    "sentences_no_lemm = []  \n",
    "print('Parsing sentences...')\n",
    "for review in tqdm(df['text']):\n",
    "    sentences_no_lemm += review_to_sentences(review, tokenizer)"
   ]
  },
  {
   "cell_type": "code",
   "execution_count": 11,
   "metadata": {},
   "outputs": [],
   "source": [
    "tokenizer = nltk.data.load('tokenizers/punkt/russian.pickle')\n",
    "lemmatizer = MorphAnalyzer()"
   ]
  },
  {
   "cell_type": "code",
   "execution_count": 24,
   "metadata": {},
   "outputs": [
    {
     "name": "stdout",
     "output_type": "stream",
     "text": [
      "Parsing sentences...\n"
     ]
    },
    {
     "name": "stderr",
     "output_type": "stream",
     "text": [
      "100%|████████████████████████████████████████████████████████████████████████| 153499/153499 [2:48:33<00:00, 15.18it/s]\n"
     ]
    }
   ],
   "source": [
    "sentences = []  \n",
    "print('Parsing sentences...')\n",
    "for review in tqdm(df['text']):\n",
    "    sentences += review_to_sentences(review, tokenizer, lemmatizer)"
   ]
  },
  {
   "cell_type": "code",
   "execution_count": 28,
   "metadata": {},
   "outputs": [
    {
     "data": {
      "text/plain": [
       "[['добрый', 'день'],\n",
       " ['я',\n",
       "  'не',\n",
       "  'являться',\n",
       "  'клиент',\n",
       "  'банка',\n",
       "  'и',\n",
       "  'поручитель',\n",
       "  'по',\n",
       "  'кредитный',\n",
       "  'договор',\n",
       "  'а',\n",
       "  'также',\n",
       "  'не',\n",
       "  'являться',\n",
       "  'какой',\n",
       "  'либо',\n",
       "  'другой',\n",
       "  'лицо',\n",
       "  'письменно',\n",
       "  'оформить',\n",
       "  'отношение',\n",
       "  'с',\n",
       "  'банк',\n",
       "  'по',\n",
       "  'повод',\n",
       "  'урегулирование',\n",
       "  'чей',\n",
       "  'либо',\n",
       "  'задолженность']]"
      ]
     },
     "execution_count": 28,
     "metadata": {},
     "output_type": "execute_result"
    }
   ],
   "source": [
    "sentences[0:2]"
   ]
  },
  {
   "cell_type": "code",
   "execution_count": null,
   "metadata": {},
   "outputs": [],
   "source": []
  },
  {
   "cell_type": "code",
   "execution_count": 26,
   "metadata": {},
   "outputs": [],
   "source": [
    "#запись результатов в файл:\n",
    "with open('text_banki_lem.txt', 'w') as f:\n",
    "    for s in sentences:\n",
    "        f.write(' '.join(s))\n",
    "        f.write('\\n')"
   ]
  },
  {
   "cell_type": "code",
   "execution_count": 13,
   "metadata": {},
   "outputs": [],
   "source": [
    "#считать результаты из файла:\n",
    "import csv\n",
    "sentences = []\n",
    "with open('text_banki_lem.txt', 'r', newline='') as csvfile:\n",
    "    r = csv.reader(csvfile, delimiter=' ')\n",
    "    sentences.append(list(r))\n",
    "sentences = sentences[0]"
   ]
  },
  {
   "cell_type": "code",
   "execution_count": 14,
   "metadata": {},
   "outputs": [
    {
     "data": {
      "text/plain": [
       "[['добрый', 'день'],\n",
       " ['я',\n",
       "  'не',\n",
       "  'являться',\n",
       "  'клиент',\n",
       "  'банка',\n",
       "  'и',\n",
       "  'поручитель',\n",
       "  'по',\n",
       "  'кредитный',\n",
       "  'договор',\n",
       "  'а',\n",
       "  'также',\n",
       "  'не',\n",
       "  'являться',\n",
       "  'какой',\n",
       "  'либо',\n",
       "  'другой',\n",
       "  'лицо',\n",
       "  'письменно',\n",
       "  'оформить',\n",
       "  'отношение',\n",
       "  'с',\n",
       "  'банк',\n",
       "  'по',\n",
       "  'повод',\n",
       "  'урегулирование',\n",
       "  'чей',\n",
       "  'либо',\n",
       "  'задолженность']]"
      ]
     },
     "execution_count": 14,
     "metadata": {},
     "output_type": "execute_result"
    }
   ],
   "source": [
    "sentences[0:2]"
   ]
  },
  {
   "cell_type": "code",
   "execution_count": 15,
   "metadata": {},
   "outputs": [],
   "source": [
    "russian_stopwords = stopwords.words(\"russian\")"
   ]
  },
  {
   "cell_type": "code",
   "execution_count": 16,
   "metadata": {},
   "outputs": [],
   "source": [
    "sentences_no_sw = sentences.copy()"
   ]
  },
  {
   "cell_type": "code",
   "execution_count": 17,
   "metadata": {},
   "outputs": [],
   "source": [
    "for i, text in enumerate(sentences_no_sw):\n",
    "    for word in text:\n",
    "        if word in russian_stopwords:\n",
    "            while word in sentences_no_sw[i]:\n",
    "                sentences_no_sw[i].remove(word) "
   ]
  },
  {
   "cell_type": "code",
   "execution_count": 18,
   "metadata": {},
   "outputs": [
    {
     "data": {
      "text/plain": [
       "[['добрый', 'день'],\n",
       " ['являться',\n",
       "  'клиент',\n",
       "  'банка',\n",
       "  'поручитель',\n",
       "  'кредитный',\n",
       "  'договор',\n",
       "  'также',\n",
       "  'являться',\n",
       "  'какой',\n",
       "  'либо',\n",
       "  'лицо',\n",
       "  'письменно',\n",
       "  'оформить',\n",
       "  'отношение',\n",
       "  'банк',\n",
       "  'повод',\n",
       "  'урегулирование',\n",
       "  'чей',\n",
       "  'либо',\n",
       "  'задолженность']]"
      ]
     },
     "execution_count": 18,
     "metadata": {},
     "output_type": "execute_result"
    }
   ],
   "source": [
    "sentences_no_sw[0:2]"
   ]
  },
  {
   "cell_type": "code",
   "execution_count": null,
   "metadata": {},
   "outputs": [],
   "source": []
  },
  {
   "cell_type": "markdown",
   "metadata": {},
   "source": [
    "# Часть 1. Анализ Текстов"
   ]
  },
  {
   "cell_type": "code",
   "execution_count": 20,
   "metadata": {},
   "outputs": [],
   "source": [
    "df_score_all = df[(df['rating_grade'].isna() == False) & (df['text'].isna() == False)].reset_index()"
   ]
  },
  {
   "cell_type": "code",
   "execution_count": 21,
   "metadata": {},
   "outputs": [
    {
     "data": {
      "text/html": [
       "<div>\n",
       "<style scoped>\n",
       "    .dataframe tbody tr th:only-of-type {\n",
       "        vertical-align: middle;\n",
       "    }\n",
       "\n",
       "    .dataframe tbody tr th {\n",
       "        vertical-align: top;\n",
       "    }\n",
       "\n",
       "    .dataframe thead th {\n",
       "        text-align: right;\n",
       "    }\n",
       "</style>\n",
       "<table border=\"1\" class=\"dataframe\">\n",
       "  <thead>\n",
       "    <tr style=\"text-align: right;\">\n",
       "      <th></th>\n",
       "      <th>index</th>\n",
       "      <th>city</th>\n",
       "      <th>rating_not_checked</th>\n",
       "      <th>title</th>\n",
       "      <th>num_comments</th>\n",
       "      <th>bank_license</th>\n",
       "      <th>author</th>\n",
       "      <th>bank_name</th>\n",
       "      <th>datetime</th>\n",
       "      <th>text</th>\n",
       "      <th>rating_grade</th>\n",
       "    </tr>\n",
       "  </thead>\n",
       "  <tbody>\n",
       "    <tr>\n",
       "      <th>0</th>\n",
       "      <td>14</td>\n",
       "      <td>г. Москва</td>\n",
       "      <td>False</td>\n",
       "      <td>В Шоке</td>\n",
       "      <td>0</td>\n",
       "      <td>лицензия № 2673</td>\n",
       "      <td>yura1189</td>\n",
       "      <td>Тинькофф Банк</td>\n",
       "      <td>2015-06-05 13:52:40</td>\n",
       "      <td>Также как и многие давний клиент банка, был до...</td>\n",
       "      <td>2.0</td>\n",
       "    </tr>\n",
       "    <tr>\n",
       "      <th>1</th>\n",
       "      <td>19</td>\n",
       "      <td>г. Москва</td>\n",
       "      <td>False</td>\n",
       "      <td>Некомпетентность сотрудников банка</td>\n",
       "      <td>2</td>\n",
       "      <td>лицензия № 1481</td>\n",
       "      <td>agelun</td>\n",
       "      <td>Сбербанк России</td>\n",
       "      <td>2015-06-05 15:00:54</td>\n",
       "      <td>Открыт вклад и счет в USD. Плюс к этому есть з...</td>\n",
       "      <td>1.0</td>\n",
       "    </tr>\n",
       "    <tr>\n",
       "      <th>2</th>\n",
       "      <td>33</td>\n",
       "      <td>г. Ростов-на-Дону</td>\n",
       "      <td>False</td>\n",
       "      <td>Навязывание страховки</td>\n",
       "      <td>1</td>\n",
       "      <td>лицензия № 1481</td>\n",
       "      <td>Joker888</td>\n",
       "      <td>Сбербанк России</td>\n",
       "      <td>2015-06-05 21:35:40</td>\n",
       "      <td>Доброго времени! Вчера мне поступило смс-уведо...</td>\n",
       "      <td>1.0</td>\n",
       "    </tr>\n",
       "    <tr>\n",
       "      <th>3</th>\n",
       "      <td>76</td>\n",
       "      <td>г. Санкт-Петербург</td>\n",
       "      <td>False</td>\n",
       "      <td>Нарушение договора банковского вклада</td>\n",
       "      <td>0</td>\n",
       "      <td>лицензия № 3006</td>\n",
       "      <td>qwarta45</td>\n",
       "      <td>АктивКапитал Банк</td>\n",
       "      <td>2015-06-06 23:42:39</td>\n",
       "      <td>05.06.2015г. около 15 часов, пришел в указанны...</td>\n",
       "      <td>1.0</td>\n",
       "    </tr>\n",
       "    <tr>\n",
       "      <th>4</th>\n",
       "      <td>85</td>\n",
       "      <td>г. Москва</td>\n",
       "      <td>False</td>\n",
       "      <td>Невозможно оплатить отчисления на капремонт \"Т...</td>\n",
       "      <td>4</td>\n",
       "      <td>лицензия № 1481</td>\n",
       "      <td>721</td>\n",
       "      <td>Сбербанк России</td>\n",
       "      <td>2015-06-04 13:27:04</td>\n",
       "      <td>Для оплаты коммунальных платежей пользуюсь пла...</td>\n",
       "      <td>1.0</td>\n",
       "    </tr>\n",
       "  </tbody>\n",
       "</table>\n",
       "</div>"
      ],
      "text/plain": [
       "   index                city  rating_not_checked  \\\n",
       "0     14           г. Москва               False   \n",
       "1     19           г. Москва               False   \n",
       "2     33   г. Ростов-на-Дону               False   \n",
       "3     76  г. Санкт-Петербург               False   \n",
       "4     85           г. Москва               False   \n",
       "\n",
       "                                               title  num_comments  \\\n",
       "0                                             В Шоке             0   \n",
       "1                 Некомпетентность сотрудников банка             2   \n",
       "2                              Навязывание страховки             1   \n",
       "3              Нарушение договора банковского вклада             0   \n",
       "4  Невозможно оплатить отчисления на капремонт \"Т...             4   \n",
       "\n",
       "      bank_license    author          bank_name             datetime  \\\n",
       "0  лицензия № 2673  yura1189      Тинькофф Банк  2015-06-05 13:52:40   \n",
       "1  лицензия № 1481    agelun    Сбербанк России  2015-06-05 15:00:54   \n",
       "2  лицензия № 1481  Joker888    Сбербанк России  2015-06-05 21:35:40   \n",
       "3  лицензия № 3006  qwarta45  АктивКапитал Банк  2015-06-06 23:42:39   \n",
       "4  лицензия № 1481       721    Сбербанк России  2015-06-04 13:27:04   \n",
       "\n",
       "                                                text  rating_grade  \n",
       "0  Также как и многие давний клиент банка, был до...           2.0  \n",
       "1  Открыт вклад и счет в USD. Плюс к этому есть з...           1.0  \n",
       "2  Доброго времени! Вчера мне поступило смс-уведо...           1.0  \n",
       "3  05.06.2015г. около 15 часов, пришел в указанны...           1.0  \n",
       "4  Для оплаты коммунальных платежей пользуюсь пла...           1.0  "
      ]
     },
     "execution_count": 21,
     "metadata": {},
     "output_type": "execute_result"
    }
   ],
   "source": [
    "df_score_all.head(5)"
   ]
  },
  {
   "cell_type": "markdown",
   "metadata": {},
   "source": [
    "## 1.1 Количество отзывов по городам:"
   ]
  },
  {
   "cell_type": "code",
   "execution_count": 21,
   "metadata": {},
   "outputs": [
    {
     "data": {
      "text/plain": [
       "г. Москва                               32502\n",
       "г. Санкт-Петербург                       8035\n",
       "г. Екатеринбург                          1275\n",
       "г. Новосибирск                           1148\n",
       "г. Нижний Новгород                       1086\n",
       "                                        ...  \n",
       "г. кондрово                                 1\n",
       "г. Раменское, Московской обл.               1\n",
       "г. Фурманов                                 1\n",
       "г. Рогачево                                 1\n",
       "г. Краснодарский край, ст.Павловская        1\n",
       "Name: city, Length: 3581, dtype: int64"
      ]
     },
     "execution_count": 21,
     "metadata": {},
     "output_type": "execute_result"
    }
   ],
   "source": [
    "df_score_all['city'].value_counts()"
   ]
  },
  {
   "cell_type": "markdown",
   "metadata": {},
   "source": [
    "## 1.2 Количество отзывов по банкам:"
   ]
  },
  {
   "cell_type": "code",
   "execution_count": 22,
   "metadata": {},
   "outputs": [
    {
     "data": {
      "text/plain": [
       "Сбербанк России      14944\n",
       "Альфа-Банк            5378\n",
       "ВТБ 24                4776\n",
       "Русский Стандарт      4368\n",
       "Хоум Кредит Банк      4028\n",
       "                     ...  \n",
       "Ростпромстройбанк        1\n",
       "Нарат                    1\n",
       "Татагропромбанк          1\n",
       "Прайм Финанс             1\n",
       "Новопокровский           1\n",
       "Name: bank_name, Length: 619, dtype: int64"
      ]
     },
     "execution_count": 22,
     "metadata": {},
     "output_type": "execute_result"
    }
   ],
   "source": [
    "df_score_all['bank_name'].value_counts()"
   ]
  },
  {
   "cell_type": "markdown",
   "metadata": {},
   "source": [
    "## 1.3 Количество отзывов по городам и банкам (ТОП10):"
   ]
  },
  {
   "cell_type": "code",
   "execution_count": 23,
   "metadata": {},
   "outputs": [],
   "source": [
    "pivot_table = pd.pivot_table(df_score_all, values='index', index=['city', 'bank_name'], aggfunc='count', sort=True)"
   ]
  },
  {
   "cell_type": "code",
   "execution_count": 24,
   "metadata": {},
   "outputs": [
    {
     "data": {
      "text/html": [
       "<div>\n",
       "<style scoped>\n",
       "    .dataframe tbody tr th:only-of-type {\n",
       "        vertical-align: middle;\n",
       "    }\n",
       "\n",
       "    .dataframe tbody tr th {\n",
       "        vertical-align: top;\n",
       "    }\n",
       "\n",
       "    .dataframe thead th {\n",
       "        text-align: right;\n",
       "    }\n",
       "</style>\n",
       "<table border=\"1\" class=\"dataframe\">\n",
       "  <thead>\n",
       "    <tr style=\"text-align: right;\">\n",
       "      <th></th>\n",
       "      <th>city</th>\n",
       "      <th>bank_name</th>\n",
       "      <th>Count of scores</th>\n",
       "    </tr>\n",
       "  </thead>\n",
       "  <tbody>\n",
       "    <tr>\n",
       "      <th>4670</th>\n",
       "      <td>г. Москва</td>\n",
       "      <td>Сбербанк России</td>\n",
       "      <td>4627</td>\n",
       "    </tr>\n",
       "    <tr>\n",
       "      <th>4411</th>\n",
       "      <td>г. Москва</td>\n",
       "      <td>Альфа-Банк</td>\n",
       "      <td>2041</td>\n",
       "    </tr>\n",
       "    <tr>\n",
       "      <th>4656</th>\n",
       "      <td>г. Москва</td>\n",
       "      <td>Русский Стандарт</td>\n",
       "      <td>1645</td>\n",
       "    </tr>\n",
       "    <tr>\n",
       "      <th>4454</th>\n",
       "      <td>г. Москва</td>\n",
       "      <td>ВТБ 24</td>\n",
       "      <td>1542</td>\n",
       "    </tr>\n",
       "    <tr>\n",
       "      <th>8092</th>\n",
       "      <td>г. Санкт-Петербург</td>\n",
       "      <td>Сбербанк России</td>\n",
       "      <td>1383</td>\n",
       "    </tr>\n",
       "    <tr>\n",
       "      <th>4567</th>\n",
       "      <td>г. Москва</td>\n",
       "      <td>Московский Кредитный Банк</td>\n",
       "      <td>1371</td>\n",
       "    </tr>\n",
       "    <tr>\n",
       "      <th>4736</th>\n",
       "      <td>г. Москва</td>\n",
       "      <td>Хоум Кредит Банк</td>\n",
       "      <td>1292</td>\n",
       "    </tr>\n",
       "    <tr>\n",
       "      <th>4579</th>\n",
       "      <td>г. Москва</td>\n",
       "      <td>Национальный Банк «Траст»</td>\n",
       "      <td>1036</td>\n",
       "    </tr>\n",
       "    <tr>\n",
       "      <th>4626</th>\n",
       "      <td>г. Москва</td>\n",
       "      <td>Райффайзенбанк</td>\n",
       "      <td>964</td>\n",
       "    </tr>\n",
       "    <tr>\n",
       "      <th>4705</th>\n",
       "      <td>г. Москва</td>\n",
       "      <td>Тинькофф Банк</td>\n",
       "      <td>947</td>\n",
       "    </tr>\n",
       "  </tbody>\n",
       "</table>\n",
       "</div>"
      ],
      "text/plain": [
       "                    city                  bank_name  Count of scores\n",
       "4670           г. Москва            Сбербанк России             4627\n",
       "4411           г. Москва                 Альфа-Банк             2041\n",
       "4656           г. Москва           Русский Стандарт             1645\n",
       "4454           г. Москва                     ВТБ 24             1542\n",
       "8092  г. Санкт-Петербург            Сбербанк России             1383\n",
       "4567           г. Москва  Московский Кредитный Банк             1371\n",
       "4736           г. Москва           Хоум Кредит Банк             1292\n",
       "4579           г. Москва  Национальный Банк «Траст»             1036\n",
       "4626           г. Москва             Райффайзенбанк              964\n",
       "4705           г. Москва              Тинькофф Банк              947"
      ]
     },
     "execution_count": 24,
     "metadata": {},
     "output_type": "execute_result"
    }
   ],
   "source": [
    "pivot_table.reset_index().sort_values(by=['index'], ascending = False).rename(columns={'index': 'Count of scores'}).head(10)"
   ]
  },
  {
   "cell_type": "markdown",
   "metadata": {},
   "source": [
    "## 2. Гистограмма распределения длинн слов-лемм в символах:"
   ]
  },
  {
   "cell_type": "code",
   "execution_count": 25,
   "metadata": {},
   "outputs": [],
   "source": [
    "#составим словарь вида токен-id\n",
    "dictionary = Dictionary(sentences)"
   ]
  },
  {
   "cell_type": "code",
   "execution_count": 26,
   "metadata": {},
   "outputs": [],
   "source": [
    "#вычислим в словаре длины встречающихся слов\n",
    "len_tokens = [len(k) for k, v in dictionary.token2id.items()]"
   ]
  },
  {
   "cell_type": "code",
   "execution_count": 27,
   "metadata": {},
   "outputs": [
    {
     "data": {
      "image/png": "[encoded data removed]",
      "text/plain": [
       "<Figure size 432x288 with 1 Axes>"
      ]
     },
     "metadata": {
      "needs_background": "light"
     },
     "output_type": "display_data"
    }
   ],
   "source": [
    "sns_plot = sns.distplot(len_tokens)\n",
    "fig = sns_plot.get_figure()"
   ]
  },
  {
   "cell_type": "code",
   "execution_count": 28,
   "metadata": {},
   "outputs": [
    {
     "data": {
      "image/png": "[encoded data removed]",
      "text/plain": [
       "<Figure size 432x288 with 1 Axes>"
      ]
     },
     "metadata": {
      "needs_background": "light"
     },
     "output_type": "display_data"
    }
   ],
   "source": [
    "plt.hist(len_tokens, bins=100)\n",
    "plt.show()"
   ]
  },
  {
   "cell_type": "markdown",
   "metadata": {},
   "source": [
    "Самые часто встречающиеся в словаре слова имеют длинну 7-9 символов:"
   ]
  },
  {
   "cell_type": "code",
   "execution_count": 29,
   "metadata": {},
   "outputs": [
    {
     "data": {
      "text/plain": [
       "[(8, 11990), (9, 11739), (7, 10839)]"
      ]
     },
     "execution_count": 29,
     "metadata": {},
     "output_type": "execute_result"
    }
   ],
   "source": [
    "import collections\n",
    "c = collections.Counter()\n",
    "for word in len_tokens:\n",
    "    c[word] += 1\n",
    "c.most_common(3)"
   ]
  },
  {
   "cell_type": "code",
   "execution_count": null,
   "metadata": {},
   "outputs": [],
   "source": []
  },
  {
   "cell_type": "markdown",
   "metadata": {},
   "source": [
    "## 3.1 ТОР10 самых встечаемых слов-лемм: "
   ]
  },
  {
   "cell_type": "code",
   "execution_count": 30,
   "metadata": {},
   "outputs": [
    {
     "data": {
      "text/plain": [
       "1"
      ]
     },
     "execution_count": 30,
     "metadata": {},
     "output_type": "execute_result"
    }
   ],
   "source": [
    "#словарь вида токент-id\n",
    "dictionary.token2id['добрый']"
   ]
  },
  {
   "cell_type": "code",
   "execution_count": 31,
   "metadata": {},
   "outputs": [
    {
     "data": {
      "text/plain": [
       "170152"
      ]
     },
     "execution_count": 31,
     "metadata": {},
     "output_type": "execute_result"
    }
   ],
   "source": [
    "# частота встречаемости токенов во всех документах\n",
    "dictionary.cfs[0]"
   ]
  },
  {
   "cell_type": "code",
   "execution_count": 32,
   "metadata": {},
   "outputs": [],
   "source": [
    "#отсортируем словарь по частоте встречаемости токенов (id-частота)\n",
    "import operator\n",
    "sorted_cfs = sorted(dictionary.cfs.items(), key=operator.itemgetter(1), reverse = True)"
   ]
  },
  {
   "cell_type": "markdown",
   "metadata": {},
   "source": [
    "Самые часто встречаемые токены как и ожидалось относятся к стоп-словам:"
   ]
  },
  {
   "cell_type": "code",
   "execution_count": 33,
   "metadata": {},
   "outputs": [
    {
     "data": {
      "text/plain": [
       "['банка', 'карта', 'это', 'банк', 'весь', 'деньга', 'я', 'день', 'год', 'не']"
      ]
     },
     "execution_count": 33,
     "metadata": {},
     "output_type": "execute_result"
    }
   ],
   "source": [
    "top_freq_keys = [k for k, v in sorted_cfs[:10]]\n",
    "[dictionary[i] for i in top_freq_keys]"
   ]
  },
  {
   "cell_type": "markdown",
   "metadata": {},
   "source": [
    "## 3.2 ТОР10 самых встечаемых слов-лемм без стоп-слов: "
   ]
  },
  {
   "cell_type": "code",
   "execution_count": 34,
   "metadata": {},
   "outputs": [],
   "source": [
    "dictionary_no_sw = Dictionary(sentences_no_sw)"
   ]
  },
  {
   "cell_type": "code",
   "execution_count": 35,
   "metadata": {},
   "outputs": [],
   "source": [
    "sorted_cfs_no_sw = sorted(dictionary_no_sw.cfs.items(), key=operator.itemgetter(1), reverse = True)"
   ]
  },
  {
   "cell_type": "code",
   "execution_count": 36,
   "metadata": {},
   "outputs": [
    {
     "data": {
      "text/plain": [
       "['банка', 'карта', 'это', 'банк', 'весь', 'деньга', 'я', 'день', 'год', 'не']"
      ]
     },
     "execution_count": 36,
     "metadata": {},
     "output_type": "execute_result"
    }
   ],
   "source": [
    "top_freq_keys_no_sw = [k for k, v in sorted_cfs_no_sw[:10]]\n",
    "[dictionary_no_sw[i] for i in top_freq_keys_no_sw]"
   ]
  },
  {
   "cell_type": "markdown",
   "metadata": {},
   "source": [
    "## 3.3 ТОР10 самых встечаемых слов (без лемматизации):"
   ]
  },
  {
   "cell_type": "code",
   "execution_count": 37,
   "metadata": {},
   "outputs": [],
   "source": [
    "dictionary_no_lemm = Dictionary(sentences_no_lemm)"
   ]
  },
  {
   "cell_type": "code",
   "execution_count": 38,
   "metadata": {},
   "outputs": [],
   "source": [
    "import operator\n",
    "sorted_cfs_no_lemm = sorted(dictionary_no_lemm.cfs.items(), key=operator.itemgetter(1), reverse = True)"
   ]
  },
  {
   "cell_type": "code",
   "execution_count": 39,
   "metadata": {},
   "outputs": [
    {
     "data": {
      "text/plain": [
       "['в', 'и', 'не', 'на', 'что', 'я', 'с', 'по', 'мне', 'банка']"
      ]
     },
     "execution_count": 39,
     "metadata": {},
     "output_type": "execute_result"
    }
   ],
   "source": [
    "top_freq_keys_no_lemm = [k for k, v in sorted_cfs_no_lemm[:10]]\n",
    "[dictionary_no_lemm[i] for i in top_freq_keys_no_lemm]"
   ]
  },
  {
   "cell_type": "markdown",
   "metadata": {},
   "source": [
    "## 3.4 ТОР10 самых встечаемых слов - существительных (без лемматизации):"
   ]
  },
  {
   "cell_type": "code",
   "execution_count": 40,
   "metadata": {},
   "outputs": [],
   "source": [
    "nouns_no_lemm = []\n",
    "for k, v in sorted_cfs_no_lemm:\n",
    "    if lemmatizer.parse(dictionary_no_lemm[k])[0].tag.POS == 'NOUN':\n",
    "        nouns_no_lemm.append(dictionary_no_lemm[k])\n",
    "    if len(nouns_no_lemm) == 10:\n",
    "        break"
   ]
  },
  {
   "cell_type": "code",
   "execution_count": 41,
   "metadata": {},
   "outputs": [
    {
     "data": {
      "text/plain": [
       "['банка',\n",
       " 'банк',\n",
       " 'деньги',\n",
       " 'карту',\n",
       " 'карты',\n",
       " 'т',\n",
       " 'кредит',\n",
       " 'день',\n",
       " 'раз',\n",
       " 'банке']"
      ]
     },
     "execution_count": 41,
     "metadata": {},
     "output_type": "execute_result"
    }
   ],
   "source": [
    "nouns_no_lemm"
   ]
  },
  {
   "cell_type": "markdown",
   "metadata": {},
   "source": [
    "## 3.5 ТОР10 самых встечаемых слов - существительных (леммы):"
   ]
  },
  {
   "cell_type": "code",
   "execution_count": 42,
   "metadata": {},
   "outputs": [],
   "source": [
    "nouns_lemm = []\n",
    "for k, v in sorted_cfs:\n",
    "    if lemmatizer.parse(dictionary[k])[0].tag.POS == 'NOUN':\n",
    "        nouns_lemm.append(dictionary[k])\n",
    "    if len(nouns_lemm) == 10:\n",
    "        break"
   ]
  },
  {
   "cell_type": "code",
   "execution_count": 43,
   "metadata": {},
   "outputs": [
    {
     "data": {
      "text/plain": [
       "['банка',\n",
       " 'карта',\n",
       " 'банк',\n",
       " 'деньга',\n",
       " 'день',\n",
       " 'год',\n",
       " 'кредит',\n",
       " 'отделение',\n",
       " 'клиент',\n",
       " 'сотрудник']"
      ]
     },
     "execution_count": 43,
     "metadata": {},
     "output_type": "execute_result"
    }
   ],
   "source": [
    "nouns_lemm"
   ]
  },
  {
   "cell_type": "markdown",
   "metadata": {},
   "source": [
    "## 4. Кривые Ципфа и Хипса"
   ]
  },
  {
   "cell_type": "code",
   "execution_count": 44,
   "metadata": {},
   "outputs": [],
   "source": [
    "#Расчет рядов для кривой Ципфа\n",
    "freq = []\n",
    "rank = []\n",
    "for i, (k, v) in enumerate(sorted_cfs):\n",
    "    freq.append(v)\n",
    "    rank.append(i)"
   ]
  },
  {
   "cell_type": "code",
   "execution_count": 45,
   "metadata": {},
   "outputs": [],
   "source": [
    "#Расчет рядов для кривой Хипса\n",
    "dic = {} # словарь вида ключ- длина предложения; значение - массив из колиечества уникальных слов в предолжении (потом среднее)\n",
    "prev = []\n",
    "for text in sentences:\n",
    "    if dic.get(len(text)) != None:\n",
    "        prev = dic[len(text)]\n",
    "        if len(set(text)) not in prev:\n",
    "            prev.append(len(set(text)))\n",
    "            dic[len(text)] = prev         \n",
    "    else:\n",
    "        dic[len(text)] = [len(set(text))]\n"
   ]
  },
  {
   "cell_type": "code",
   "execution_count": 46,
   "metadata": {},
   "outputs": [],
   "source": [
    "#для для предложений определенной длинны есть разные варианты колиечества уникальных слов, берем среднее арифметическое по ним\n",
    "dic_average = {}\n",
    "for key, value in dic.items():\n",
    "    dic_average[key] = round(mean(value))"
   ]
  },
  {
   "cell_type": "code",
   "execution_count": 47,
   "metadata": {},
   "outputs": [],
   "source": [
    "sorted_dic_av = sorted(dic_average.items(), key=operator.itemgetter(0), reverse = False)"
   ]
  },
  {
   "cell_type": "code",
   "execution_count": 48,
   "metadata": {},
   "outputs": [],
   "source": [
    "x = []\n",
    "y = []\n",
    "for slen, ulen in sorted_dic_av:\n",
    "    x.append(slen)\n",
    "    y.append(ulen)"
   ]
  },
  {
   "cell_type": "code",
   "execution_count": 49,
   "metadata": {},
   "outputs": [
    {
     "data": {
      "text/plain": [
       "<function matplotlib.pyplot.show(*args, **kw)>"
      ]
     },
     "execution_count": 49,
     "metadata": {},
     "output_type": "execute_result"
    },
    {
     "data": {
      "image/png": "[encoded data removed]",
      "text/plain": [
       "<Figure size 1152x288 with 2 Axes>"
      ]
     },
     "metadata": {
      "needs_background": "light"
     },
     "output_type": "display_data"
    }
   ],
   "source": [
    "plt.figure(figsize=(16,4))\n",
    "\n",
    "plt.subplot(121)\n",
    "plt.plot(rank, freq)\n",
    "plt.xlim(0, 100)\n",
    "plt.title('Кривая Ципфа')\n",
    "plt.xlabel('Ранг')\n",
    "plt.ylabel('Частота слов')\n",
    "\n",
    "plt.subplot(122)\n",
    "plt.plot(x, y)\n",
    "plt.title('Кривая Хипса')\n",
    "plt.xlabel('Размер текста')\n",
    "plt.ylabel('Число разных слов в тексте')\n",
    "\n",
    "plt.show"
   ]
  },
  {
   "cell_type": "markdown",
   "metadata": {},
   "source": [
    "Действительно, закон Ципфа показывает имеет обратноую зависимость между частотой втречаемости слова и его рангом (порядковый номер в списке по убыванию частотности). Закон Хипса ввиду малого объема предложений с уникальными длинами преолжений >180 слов показывают, что с увелиечением длинны предложения, количество уникальных слов в нем возрастает с меньшим темпом.  "
   ]
  },
  {
   "cell_type": "markdown",
   "metadata": {},
   "source": [
    "## 5. Ответы на вопросы"
   ]
  },
  {
   "cell_type": "markdown",
   "metadata": {},
   "source": [
    "### 5.1 какое слово встречается чаще, \"сотрудник\" или \"клиент\"?"
   ]
  },
  {
   "cell_type": "code",
   "execution_count": 50,
   "metadata": {},
   "outputs": [
    {
     "data": {
      "text/plain": [
       "455"
      ]
     },
     "execution_count": 50,
     "metadata": {},
     "output_type": "execute_result"
    }
   ],
   "source": [
    "#Найдем id слов в словаре\n",
    "dictionary.token2id['сотрудник']"
   ]
  },
  {
   "cell_type": "code",
   "execution_count": 51,
   "metadata": {},
   "outputs": [
    {
     "data": {
      "text/plain": [
       "7"
      ]
     },
     "execution_count": 51,
     "metadata": {},
     "output_type": "execute_result"
    }
   ],
   "source": [
    "dictionary.token2id['клиент']"
   ]
  },
  {
   "cell_type": "code",
   "execution_count": 54,
   "metadata": {},
   "outputs": [
    {
     "data": {
      "text/plain": [
       "134168"
      ]
     },
     "execution_count": 54,
     "metadata": {},
     "output_type": "execute_result"
    }
   ],
   "source": [
    "#Посмотрим как часто встречаются данные слова в предложениях\n",
    "dictionary.cfs[dictionary.token2id['сотрудник']]"
   ]
  },
  {
   "cell_type": "code",
   "execution_count": 55,
   "metadata": {},
   "outputs": [
    {
     "data": {
      "text/plain": [
       "136893"
      ]
     },
     "execution_count": 55,
     "metadata": {},
     "output_type": "execute_result"
    }
   ],
   "source": [
    "dictionary.cfs[dictionary.token2id['клиент']]"
   ]
  },
  {
   "cell_type": "markdown",
   "metadata": {},
   "source": [
    "Слово \"клиент\" чаще встречается в предолжениях (136893 раза), нежели слово \"сотрудник\"."
   ]
  },
  {
   "cell_type": "markdown",
   "metadata": {},
   "source": [
    "### 5.2 сколько раз встречается слова \"мошенничество\" и \"доверие\"?"
   ]
  },
  {
   "cell_type": "code",
   "execution_count": 56,
   "metadata": {},
   "outputs": [
    {
     "data": {
      "text/plain": [
       "2498"
      ]
     },
     "execution_count": 56,
     "metadata": {},
     "output_type": "execute_result"
    }
   ],
   "source": [
    "#Найдем id слов в словаре\n",
    "dictionary.token2id['мошенничество']"
   ]
  },
  {
   "cell_type": "code",
   "execution_count": 57,
   "metadata": {},
   "outputs": [
    {
     "data": {
      "text/plain": [
       "1792"
      ]
     },
     "execution_count": 57,
     "metadata": {},
     "output_type": "execute_result"
    }
   ],
   "source": [
    "dictionary.token2id['доверие']"
   ]
  },
  {
   "cell_type": "markdown",
   "metadata": {},
   "source": [
    "Слово \"мошенничество\" встречается 2498 раз, а слово \"доверие\" только 1792 раз"
   ]
  },
  {
   "cell_type": "markdown",
   "metadata": {},
   "source": [
    "## 6. Найдем ключевые слова и биграммы для положительных (оценка 5) и отрицательных (оценка 1) отзывов"
   ]
  },
  {
   "cell_type": "code",
   "execution_count": 56,
   "metadata": {},
   "outputs": [],
   "source": [
    "df5 = df[(df['rating_grade'] == 5.0) & (df['text'].isna() == False)].reset_index()[['text', 'rating_grade']]"
   ]
  },
  {
   "cell_type": "code",
   "execution_count": 57,
   "metadata": {},
   "outputs": [],
   "source": [
    "df1 = df[(df['rating_grade'] == 1.0) & (df['text'].isna() == False)].reset_index()[['text', 'rating_grade']]"
   ]
  },
  {
   "cell_type": "code",
   "execution_count": 60,
   "metadata": {},
   "outputs": [
    {
     "data": {
      "text/html": [
       "<div>\n",
       "<style scoped>\n",
       "    .dataframe tbody tr th:only-of-type {\n",
       "        vertical-align: middle;\n",
       "    }\n",
       "\n",
       "    .dataframe tbody tr th {\n",
       "        vertical-align: top;\n",
       "    }\n",
       "\n",
       "    .dataframe thead th {\n",
       "        text-align: right;\n",
       "    }\n",
       "</style>\n",
       "<table border=\"1\" class=\"dataframe\">\n",
       "  <thead>\n",
       "    <tr style=\"text-align: right;\">\n",
       "      <th></th>\n",
       "      <th>text</th>\n",
       "      <th>rating_grade</th>\n",
       "    </tr>\n",
       "  </thead>\n",
       "  <tbody>\n",
       "    <tr>\n",
       "      <th>0</th>\n",
       "      <td>Досрочно закрывали вклады перед отпуском. Жена...</td>\n",
       "      <td>5.0</td>\n",
       "    </tr>\n",
       "    <tr>\n",
       "      <th>1</th>\n",
       "      <td>Хотел открыть вклад \"Доходный+\" под 19% год , ...</td>\n",
       "      <td>5.0</td>\n",
       "    </tr>\n",
       "    <tr>\n",
       "      <th>2</th>\n",
       "      <td>Вчера, 3 июня, просидев в очереди более 3-х ча...</td>\n",
       "      <td>5.0</td>\n",
       "    </tr>\n",
       "    <tr>\n",
       "      <th>3</th>\n",
       "      <td>Сегодня открывал вклад в этом банке. Очередь б...</td>\n",
       "      <td>5.0</td>\n",
       "    </tr>\n",
       "    <tr>\n",
       "      <th>4</th>\n",
       "      <td>Моя история получения кредита в Ренессанс Кред...</td>\n",
       "      <td>5.0</td>\n",
       "    </tr>\n",
       "  </tbody>\n",
       "</table>\n",
       "</div>"
      ],
      "text/plain": [
       "                                                text  rating_grade\n",
       "0  Досрочно закрывали вклады перед отпуском. Жена...           5.0\n",
       "1  Хотел открыть вклад \"Доходный+\" под 19% год , ...           5.0\n",
       "2  Вчера, 3 июня, просидев в очереди более 3-х ча...           5.0\n",
       "3  Сегодня открывал вклад в этом банке. Очередь б...           5.0\n",
       "4  Моя история получения кредита в Ренессанс Кред...           5.0"
      ]
     },
     "execution_count": 60,
     "metadata": {},
     "output_type": "execute_result"
    }
   ],
   "source": [
    "df5.head(5)"
   ]
  },
  {
   "cell_type": "code",
   "execution_count": 58,
   "metadata": {},
   "outputs": [
    {
     "name": "stdout",
     "output_type": "stream",
     "text": [
      "Parsing sentences...\n"
     ]
    },
    {
     "name": "stderr",
     "output_type": "stream",
     "text": [
      "100%|████████████████████████████████████████████████████████████████████████████| 14713/14713 [09:48<00:00, 24.99it/s]\n"
     ]
    }
   ],
   "source": [
    "#для всех отзывов с оценкой 5 проводим обратботку текста (ткоенизируем, удаляем лишние символы)\n",
    "sentences5 = []  \n",
    "print('Parsing sentences...')\n",
    "for review in tqdm(df5['text']):\n",
    "    sentences5.append(review_to_sentences(review, tokenizer, lemmatizer, True))"
   ]
  },
  {
   "cell_type": "code",
   "execution_count": 59,
   "metadata": {},
   "outputs": [
    {
     "name": "stdout",
     "output_type": "stream",
     "text": [
      "Parsing sentences...\n"
     ]
    },
    {
     "name": "stderr",
     "output_type": "stream",
     "text": [
      "100%|████████████████████████████████████████████████████████████████████████████| 47387/47387 [40:06<00:00, 19.69it/s]\n"
     ]
    }
   ],
   "source": [
    "sentences1 = []  \n",
    "print('Parsing sentences...')\n",
    "for review in tqdm(df1['text']):\n",
    "    sentences1.append(review_to_sentences(review, tokenizer, lemmatizer, True))"
   ]
  },
  {
   "cell_type": "code",
   "execution_count": 60,
   "metadata": {},
   "outputs": [],
   "source": [
    "#в sentence5 разбито на предолжения. мы группируем по отзывам. т.е. если в отзыве несколько предолжений, то объединяем в одну строку\n",
    "sent5 = []\n",
    "for i, review in enumerate(sentences5):\n",
    "    if len(review) > 1:\n",
    "        res = []\n",
    "        x = []\n",
    "        x = [sentence for sentence in review if sentence != []]\n",
    "        if x != []:\n",
    "            res = list(concatenate(x))\n",
    "    else:\n",
    "        res = review[0]\n",
    "    sent5.append(res)"
   ]
  },
  {
   "cell_type": "code",
   "execution_count": 61,
   "metadata": {},
   "outputs": [],
   "source": [
    "sent1 = []\n",
    "for i, review in enumerate(sentences1):\n",
    "    if len(review) > 1:\n",
    "        res = []\n",
    "        x = []\n",
    "        x = [sentence for sentence in review if sentence != []]\n",
    "        if x != []:\n",
    "            res = list(concatenate(x))\n",
    "    else:\n",
    "        res = review[0]\n",
    "    sent1.append(res)"
   ]
  },
  {
   "cell_type": "code",
   "execution_count": 62,
   "metadata": {},
   "outputs": [],
   "source": [
    "#заменим слово \"банка\" на \"банк\"\n",
    "for isent,sentence in enumerate(sent5):\n",
    "    for iword, word in enumerate(sentence):\n",
    "        if word == 'банка':\n",
    "            sent5[isent][iword] = 'банк'\n"
   ]
  },
  {
   "cell_type": "code",
   "execution_count": 63,
   "metadata": {},
   "outputs": [],
   "source": [
    "for isent,sentence in enumerate(sent1):\n",
    "    for iword, word in enumerate(sentence):\n",
    "        if word == 'банка':\n",
    "            sent1[isent][iword] = 'банк'"
   ]
  },
  {
   "cell_type": "code",
   "execution_count": 388,
   "metadata": {},
   "outputs": [],
   "source": [
    "dictionary5 = Dictionary(sent5)\n",
    "corpus5 = [dictionary5.doc2bow(text) for text in sent5]"
   ]
  },
  {
   "cell_type": "code",
   "execution_count": 391,
   "metadata": {},
   "outputs": [],
   "source": [
    "dictionary1 = Dictionary(sent1)\n",
    "corpus1 = [dictionary1.doc2bow(text) for text in sent1]"
   ]
  },
  {
   "cell_type": "code",
   "execution_count": 389,
   "metadata": {},
   "outputs": [],
   "source": [
    "tfidf5 = TfidfModel(corpus5)\n",
    "corpus_tfidf5 = tfidf5[corpus5]"
   ]
  },
  {
   "cell_type": "code",
   "execution_count": 392,
   "metadata": {},
   "outputs": [],
   "source": [
    "tfidf1 = TfidfModel(corpus1)\n",
    "corpus_tfidf1 = tfidf1[corpus1]"
   ]
  },
  {
   "cell_type": "code",
   "execution_count": 393,
   "metadata": {},
   "outputs": [],
   "source": [
    "def maxnIndSort(arr, dic, topn = 5):\n",
    "    ww = [w for i, w in arr]\n",
    "    ind = [i for i, w in arr]\n",
    "    max_indices = sorted(range(len(ww)), key=lambda i: ww[i], reverse=True)[:topn]\n",
    "    return [ind[i] for i in max_indices], [ww[i] for i in max_indices], [dic[ind[i]] for i in max_indices]"
   ]
  },
  {
   "cell_type": "markdown",
   "metadata": {},
   "source": [
    "Ключевые слова для отзывов с рейтингом 5, полученных из модели tf-idf:"
   ]
  },
  {
   "cell_type": "code",
   "execution_count": 394,
   "metadata": {},
   "outputs": [
    {
     "name": "stdout",
     "output_type": "stream",
     "text": [
      "['ленсовет', 'озерко', 'прикрыть', 'доступность', 'нести']\n",
      "['доходный', 'вклад', 'взнос', 'снизить', 'первоначальный']\n",
      "['июнь', 'выплата', 'выгнать', 'спасть', 'наплыть']\n",
      "['какао', 'зав', 'наличие', 'туалет', 'затратить']\n",
      "['страховка', 'гигабайт', 'ммс', 'сроккредит', 'евт']\n",
      "['реструктуризация', 'неугодов', 'обрисовать', 'наталия', 'приглашение']\n",
      "['депозит', 'располагаться', 'размещать', 'руководитель', 'подразделение']\n",
      "['сетель', 'просрочить', 'регион', 'начислить', 'корректно']\n",
      "['настолько', 'мудрец', 'отрада', 'шлёнский', 'ярина']\n",
      "['георгий', 'тодуа', 'впадать', 'тимирязевский', 'чужой']\n",
      "['тикета', 'кошелёк', 'просить', 'оферта', 'владение']\n",
      "['плат', 'поль', 'интерактивный', 'некачественный', 'использование']\n",
      "['камышин', 'доставка', 'заказать', 'емэйл', 'консультантка']\n",
      "['поменять', 'автовый', 'сравнение', 'паспорт', 'познаваться']\n",
      "['навстеча', 'начислиться', 'наступление', 'должник', 'тянуть']\n",
      "['балл', 'сбербанк', 'пароль', 'чек', 'идентификатор']\n",
      "['переход', 'ссылка', 'инуть', 'шоколадный', 'заграницей']\n",
      "['анастасий', 'аверин', 'карман', 'согласиться', 'карта']\n",
      "['овердрафт', 'дебетовка', 'просрочить', 'мобайл', 'счёт']\n",
      "['переулок', 'электрический', 'операционный', 'тишинский', 'победный']\n"
     ]
    }
   ],
   "source": [
    "for i in range(20):\n",
    "    print(maxnIndSort(corpus_tfidf5[i], dictionary5, topn = 5)[2])"
   ]
  },
  {
   "cell_type": "code",
   "execution_count": 357,
   "metadata": {},
   "outputs": [
    {
     "data": {
      "text/plain": [
       "array(['Досрочно закрывали вклады перед отпуском. Жена заказывала заранее, но забыла заказать на меня. Сотрудник банка (СПБ Ленсовета 89) Наталья не отказала мне, хотя сумма значительная. Работает быстро, профессионально. Ничего лишнего. Жаль, что прикрыли прием вкладов в офисе Озерки - доступность офиса для меня. Заметил, что и несут деньги во вклады и берут кредиты. Желаю успехов банку.'],\n",
       "      dtype=object)"
      ]
     },
     "execution_count": 357,
     "metadata": {},
     "output_type": "execute_result"
    }
   ],
   "source": [
    "df5['text'].head(1).values"
   ]
  },
  {
   "cell_type": "markdown",
   "metadata": {},
   "source": [
    "Ключевые слова для отзывов с рейтингом 1, полученных из модели tf-idf:"
   ]
  },
  {
   "cell_type": "code",
   "execution_count": 395,
   "metadata": {},
   "outputs": [
    {
     "name": "stdout",
     "output_type": "stream",
     "text": [
      "['доллар', 'курс', 'долларовый', 'операционист', 'риторический']\n",
      "['страховка', 'одобрить', 'страхование', 'самопроизвольно', 'сотрудник']\n",
      "['менежер', 'вклад', 'неизменность', 'приказывать', 'винтик']\n",
      "['капремонт', 'отчисление', 'внешний', 'лицевой', 'коммунальный']\n",
      "['квитанция', 'расписаться', 'положить', 'уверенность', 'чапаевск']\n",
      "['бки', 'обновляться', 'тянуться', 'обновить', 'продолжение']\n",
      "['привелигировать', 'клуб', 'евровой', 'евровую', 'операционистка']\n",
      "['сытый', 'клерк', 'легко', 'репутация', 'заявлять']\n",
      "['тихвинский', 'оправдываться', 'привозить', 'долларовый', 'двадцать']\n",
      "['терминал', 'симферопольский', 'стартовый', 'переключиться', 'рассмотрение']\n",
      "['техносёл', 'своевременный', 'молча', 'отказ', 'письмо']\n",
      "['терминал', 'вклад', 'пополнение', 'пополнить', 'торопиться']\n",
      "['платёжный', 'связанный', 'минимизация', 'установленный', 'эквайер']\n",
      "['развод', 'абсолютно', 'средь', 'совдеповский', 'безучастный']\n",
      "['операционистка', 'заказать', 'вклад', 'раздвижной', 'средневысокий']\n",
      "['отмена', 'карман', 'годовой', 'артериальный', 'бессонница']\n",
      "['ов', 'момент', 'задержка', 'ссылаться', 'уважение']\n",
      "['новость', 'соответсвенный', 'оповещение', 'платный', 'вынужденно']\n",
      "['актуально', 'строгинский', 'предложение', 'специальный', 'наехать']\n",
      "['перебивать', 'реквизит', 'оператор', 'перепровести', 'верный']\n"
     ]
    }
   ],
   "source": [
    "for i in range(20):\n",
    "    print(maxnIndSort(corpus_tfidf1[i], dictionary1, topn = 5)[2])"
   ]
  },
  {
   "cell_type": "code",
   "execution_count": 396,
   "metadata": {},
   "outputs": [
    {
     "data": {
      "text/plain": [
       "array(['Открыт вклад и счет в USD. Плюс к этому есть зарплатная карта, в рублях, само собой. Сегодня пришел в указанное отделение с целью пополнить долларовый счёт на 700 USD.\\xa0Дал операционисту паспорт, зарплатную карту (т.к. на окошке написано \"приготовьте карту для подтверждения операции\" или что-то подобное и в прошлый раз у меня ее потребовали) и сказал, что нужно положить деньги на ДОЛЛАРОВЫЙ счет.\\xa0Операционист всё взяла, что-то делала-крутила-вертела, вставила карту в терминал, сказала \"введите пин\", я ввёл пин, получил в ответ чек, где было написано, что доллары были внесены.... на счёт КАРТЫ! в РУБЛЯХ! Вопрос банку №1, риторический:  Я не понимаю, кем нужно быть, чтобы сознательно проводить такие операции??? за углом, меньше чем через квартал, курс приёма валюты выше почти на рубль! Если я действительно хотел совершить такую \"хитрую\" операцию, мне было выгоднее сделать 100 шагов и \"заработать\" на этом около 700 рублей, после чего просто внести рубли на счёт карты в банкомате! Далее...\\xa0 После долгих, около двух часов, выяснений отношений с операционистом и\\xa0(видимо)\\xa0ее начальником, их попыток отменить первую транзакцию и т.д. и т.п., мы \"сошлись\" на том, что мне компенсируют курсовую разницу между зачислением долларов на рублёвую карту (54,6 руб/доллар, со СЛОВ операциониста) и курсом покупки валюты (58,7 руб/доллар), я куплю за наличные те же 700 долларов и положу их на долларовый счёт. Также я попросил указать на чеке курс, по которому прошла первая транзакция (доллары на рублёвый счёт, 54,6) и поставить печать.\\xa0 Доллары поступили на счёт через 3 часа и по курсу (тадааам!) 54,38. Комиссия банка? или что это было?. Опять же, операционист не знает о комиссиях или курсах проведения операции? Вывод 1:  В итоге я потерял 2 часа времени, нервы и (фиг уж с ними) 154 рубля. Вывод 2:  другим клиентам: требуйте распечатки тех операций, которые собирается провести операционист ДО их проведения. Если бы не было \"высокотехнологичного\" подтверждения операции PIN\\'ом, а была обычная платёжка, всего этого можно было бы избежать. Вопрос банку №2, риторический:  \\xa0Сбер, когда вы будете брать на работу компетентных сотрудников? Которые способны думать или, хотя бы, слушать, что их просят сделать?'],\n",
       "      dtype=object)"
      ]
     },
     "execution_count": 396,
     "metadata": {},
     "output_type": "execute_result"
    }
   ],
   "source": [
    "df1['text'].head(1).values"
   ]
  },
  {
   "cell_type": "markdown",
   "metadata": {},
   "source": []
  },
  {
   "cell_type": "markdown",
   "metadata": {},
   "source": [
    "# Часть 2. Тематическое моделирование"
   ]
  },
  {
   "cell_type": "markdown",
   "metadata": {},
   "source": [
    "## 2.1 построим несколько тематических моделей с разнм числом тем"
   ]
  },
  {
   "cell_type": "code",
   "execution_count": 12,
   "metadata": {},
   "outputs": [
    {
     "name": "stdout",
     "output_type": "stream",
     "text": [
      "Parsing sentences...\n"
     ]
    },
    {
     "name": "stderr",
     "output_type": "stream",
     "text": [
      "100%|████████████████████████████████████████████████████████████████████████████| 30000/30000 [18:02<00:00, 27.71it/s]\n"
     ]
    }
   ],
   "source": [
    "sentences_scored = []  \n",
    "print('Parsing sentences...')\n",
    "for review in tqdm(df_score['text'][:30000]):\n",
    "    sentences_scored.append(review_to_sentences(review, tokenizer, lemmatizer, True))"
   ]
  },
  {
   "cell_type": "code",
   "execution_count": 13,
   "metadata": {},
   "outputs": [],
   "source": [
    "sent_scored = []\n",
    "for i, review in enumerate(sentences_scored):\n",
    "    if len(review) > 1:\n",
    "        res = []\n",
    "        x = []\n",
    "        x = [sentence for sentence in review if sentence != []]\n",
    "        if x != []:\n",
    "            res = list(concatenate(x))\n",
    "    else:\n",
    "        res = review[0]\n",
    "    sent_scored.append(res)"
   ]
  },
  {
   "cell_type": "code",
   "execution_count": 24,
   "metadata": {},
   "outputs": [],
   "source": [
    "for isent, sentence in enumerate(sent_scored):\n",
    "    for iword, word in enumerate(sentence):\n",
    "        if word == 'банка':\n",
    "            sent_scored[isent][iword] = 'банк'           "
   ]
  },
  {
   "cell_type": "code",
   "execution_count": 25,
   "metadata": {},
   "outputs": [],
   "source": [
    "dictionary_scored = Dictionary(sent_scored)"
   ]
  },
  {
   "cell_type": "code",
   "execution_count": 26,
   "metadata": {},
   "outputs": [
    {
     "data": {
      "text/plain": [
       "43500"
      ]
     },
     "execution_count": 26,
     "metadata": {},
     "output_type": "execute_result"
    }
   ],
   "source": [
    "len(dictionary_scored.token2id)"
   ]
  },
  {
   "cell_type": "code",
   "execution_count": 36,
   "metadata": {},
   "outputs": [],
   "source": [
    "corpus_scored = [dictionary_scored.doc2bow(text) for text in sent_scored]"
   ]
  },
  {
   "cell_type": "markdown",
   "metadata": {},
   "source": [
    "Тематическая модель с 10ю словами:"
   ]
  },
  {
   "cell_type": "code",
   "execution_count": 28,
   "metadata": {},
   "outputs": [],
   "source": [
    "lda_model10 = LdaMulticore(corpus_scored, num_topics = 10, id2word = dictionary_scored, passes = 2, workers = 2)"
   ]
  },
  {
   "cell_type": "code",
   "execution_count": 30,
   "metadata": {},
   "outputs": [
    {
     "data": {
      "text/plain": [
       "[(0,\n",
       "  '0.017*\"документ\" + 0.014*\"банк\" + 0.012*\"отделение\" + 0.011*\"день\" + 0.008*\"сбербанк\" + 0.008*\"ипотека\" + 0.008*\"менеджер\" + 0.007*\"сделка\" + 0.007*\"сказать\" + 0.007*\"кредит\"'),\n",
       " (1,\n",
       "  '0.034*\"банк\" + 0.020*\"сумма\" + 0.018*\"кредит\" + 0.017*\"договор\" + 0.015*\"год\" + 0.014*\"рубль\" + 0.010*\"платёж\" + 0.010*\"заявление\" + 0.009*\"день\" + 0.008*\"сотрудник\"'),\n",
       " (2,\n",
       "  '0.043*\"банк\" + 0.013*\"вклад\" + 0.009*\"это\" + 0.008*\"клиент\" + 0.008*\"сотрудник\" + 0.008*\"день\" + 0.007*\"вопрос\" + 0.007*\"очень\" + 0.006*\"время\" + 0.006*\"мой\"'),\n",
       " (3,\n",
       "  '0.030*\"банк\" + 0.017*\"кредит\" + 0.012*\"сотрудник\" + 0.010*\"это\" + 0.009*\"день\" + 0.009*\"мой\" + 0.009*\"сказать\" + 0.009*\"заявка\" + 0.009*\"звонок\" + 0.008*\"звонить\"'),\n",
       " (4,\n",
       "  '0.032*\"деньга\" + 0.025*\"банк\" + 0.015*\"банкомат\" + 0.014*\"день\" + 0.013*\"счёт\" + 0.010*\"отделение\" + 0.009*\"карта\" + 0.008*\"рубль\" + 0.008*\"мой\" + 0.008*\"это\"'),\n",
       " (5,\n",
       "  '0.061*\"банк\" + 0.012*\"год\" + 0.011*\"мой\" + 0.009*\"клиент\" + 0.007*\"кредитный\" + 0.007*\"ответ\" + 0.007*\"проблема\" + 0.007*\"день\" + 0.007*\"карта\" + 0.006*\"это\"'),\n",
       " (6,\n",
       "  '0.026*\"банк\" + 0.014*\"клиент\" + 0.013*\"это\" + 0.012*\"очередь\" + 0.009*\"офис\" + 0.008*\"отделение\" + 0.008*\"вклад\" + 0.008*\"который\" + 0.008*\"работать\" + 0.008*\"свой\"'),\n",
       " (7,\n",
       "  '0.030*\"банк\" + 0.019*\"платёж\" + 0.016*\"год\" + 0.016*\"кредит\" + 0.016*\"счёт\" + 0.011*\"задолженность\" + 0.010*\"рубль\" + 0.010*\"сумма\" + 0.009*\"кредитный\" + 0.008*\"мой\"'),\n",
       " (8,\n",
       "  '0.068*\"карта\" + 0.023*\"банк\" + 0.010*\"отделение\" + 0.010*\"это\" + 0.008*\"счёт\" + 0.007*\"мой\" + 0.007*\"год\" + 0.007*\"который\" + 0.007*\"день\" + 0.006*\"заявление\"'),\n",
       " (9,\n",
       "  '0.021*\"банк\" + 0.014*\"отделение\" + 0.013*\"номер\" + 0.012*\"мой\" + 0.010*\"ответ\" + 0.009*\"дать\" + 0.009*\"это\" + 0.008*\"сотрудник\" + 0.008*\"сбербанк\" + 0.007*\"телефон\"')]"
      ]
     },
     "execution_count": 30,
     "metadata": {},
     "output_type": "execute_result"
    }
   ],
   "source": [
    "lda_model10.print_topics(-1)"
   ]
  },
  {
   "cell_type": "markdown",
   "metadata": {},
   "source": [
    "Тематическая модель с 20ю словами:"
   ]
  },
  {
   "cell_type": "code",
   "execution_count": 48,
   "metadata": {},
   "outputs": [],
   "source": [
    "lda_model8 = LdaMulticore(corpus_scored, num_topics = 8, id2word = dictionary_scored, passes = 2, workers = 2)"
   ]
  },
  {
   "cell_type": "code",
   "execution_count": 49,
   "metadata": {},
   "outputs": [
    {
     "data": {
      "text/plain": [
       "[(0,\n",
       "  '0.021*\"деньга\" + 0.017*\"день\" + 0.017*\"карта\" + 0.016*\"банк\" + 0.014*\"заявление\" + 0.012*\"отделение\" + 0.010*\"мой\" + 0.010*\"банкомат\" + 0.009*\"сказать\" + 0.008*\"ответ\"'),\n",
       " (1,\n",
       "  '0.025*\"банк\" + 0.013*\"офис\" + 0.012*\"сотрудник\" + 0.012*\"отделение\" + 0.010*\"вклад\" + 0.009*\"клиент\" + 0.008*\"свой\" + 0.008*\"год\" + 0.008*\"это\" + 0.007*\"деньга\"'),\n",
       " (2,\n",
       "  '0.052*\"карта\" + 0.031*\"банк\" + 0.009*\"это\" + 0.007*\"отделение\" + 0.007*\"который\" + 0.007*\"мой\" + 0.006*\"кредитный\" + 0.006*\"сказать\" + 0.006*\"день\" + 0.005*\"смс\"'),\n",
       " (3,\n",
       "  '0.040*\"банк\" + 0.021*\"кредит\" + 0.012*\"договор\" + 0.011*\"год\" + 0.010*\"сотрудник\" + 0.010*\"мой\" + 0.008*\"это\" + 0.008*\"сумма\" + 0.008*\"который\" + 0.007*\"кредитный\"'),\n",
       " (4,\n",
       "  '0.022*\"платёж\" + 0.021*\"банк\" + 0.017*\"год\" + 0.015*\"счёт\" + 0.013*\"сбербанк\" + 0.010*\"сумма\" + 0.008*\"мой\" + 0.008*\"сотрудник\" + 0.008*\"карта\" + 0.008*\"который\"'),\n",
       " (5,\n",
       "  '0.040*\"банк\" + 0.023*\"вклад\" + 0.010*\"день\" + 0.009*\"счёт\" + 0.008*\"это\" + 0.008*\"сумма\" + 0.007*\"отделение\" + 0.007*\"деньга\" + 0.007*\"год\" + 0.007*\"карта\"'),\n",
       " (6,\n",
       "  '0.036*\"банк\" + 0.018*\"карта\" + 0.015*\"деньга\" + 0.013*\"счёт\" + 0.013*\"это\" + 0.010*\"рубль\" + 0.008*\"год\" + 0.008*\"мой\" + 0.008*\"который\" + 0.007*\"клиент\"'),\n",
       " (7,\n",
       "  '0.022*\"банк\" + 0.012*\"это\" + 0.012*\"клиент\" + 0.010*\"отделение\" + 0.010*\"очередь\" + 0.008*\"человек\" + 0.008*\"время\" + 0.008*\"который\" + 0.007*\"минута\" + 0.007*\"работать\"')]"
      ]
     },
     "execution_count": 49,
     "metadata": {},
     "output_type": "execute_result"
    }
   ],
   "source": [
    "lda_model8.print_topics(-1)"
   ]
  },
  {
   "cell_type": "markdown",
   "metadata": {},
   "source": [
    "Предположу, что слово \"банк\" следовало бы удалить как часто встречающееся, тем более что датасет относится к банкам в целом. Рассмотрим модель с 8ью темами:\n",
    " - 0я тема. у слова деньги самый высокий вес, далее менее значимые \"день\", \"карта\". предположу что речь идет о наличных деньгах \n",
    " - 1я тема. у слова \"банк\" самый выскоий вес. далее \"офис\", \"сотрудник\". возможно речь идет о физическом посещении офиса банка\n",
    " - 2я тема. у слова \"карта\" самый выскоий вес. далее идет \"банк\". предлоложу, что речь идет о проблемах карт (кредитных)\n",
    " - 3я тема. у слова \"банк\" самый высокий вес. далее идет \"кредит\". предположу, что речь про кредиты\n",
    " - 4я тема. у слова \"платеж\", \"банк\" самый высокий вес. далее идет \"кредит\". предположу, что речь про платежи по обязательствам\n",
    " - 5я тема. у слова \"банк\" самый высокий вес. далее идет \"вклад\". предположу, что речь про вклады\n",
    " - 6я тема. у слоа \"банк\" самый высокий вес. далее идет \"карта\". предположу, что речь про карты дебетовые, так как по сравнению с темой 6 тут отстутвует слово \"кредит\"\n",
    " - 7я тема. у слова \"банк\" самый высокий вес. далее идет \"клиент\", \"отделение\", \"очередь\". предположу, что речь проблемы обсулаживания в офисах банка, взванные в том числе очередями.\n",
    " "
   ]
  },
  {
   "cell_type": "markdown",
   "metadata": {},
   "source": [
    "Загрузим в модель LDA матрицу tf-idf, которая должна лучше выделить ключевые слова:"
   ]
  },
  {
   "cell_type": "code",
   "execution_count": null,
   "metadata": {},
   "outputs": [],
   "source": [
    "tfidf_scored = TfidfModel(corpus_scored)\n",
    "corpus_scoredtfidf = tfidf_scored[corpus_scored]"
   ]
  },
  {
   "cell_type": "code",
   "execution_count": 64,
   "metadata": {},
   "outputs": [],
   "source": [
    "lda_model10tfidf = LdaMulticore(corpus_scoredtfidf, num_topics = 8, id2word = dictionary_scored, passes = 2, workers = 2)"
   ]
  },
  {
   "cell_type": "code",
   "execution_count": 65,
   "metadata": {},
   "outputs": [
    {
     "data": {
      "text/plain": [
       "[(0,\n",
       "  '0.001*\"фина\" + 0.001*\"мультиварка\" + 0.001*\"разумовский\" + 0.001*\"петровско\" + 0.001*\"лермонтовский\" + 0.001*\"щёлковый\" + 0.000*\"софия\" + 0.000*\"проф\" + 0.000*\"субсидия\" + 0.000*\"завещание\"'),\n",
       " (1,\n",
       "  '0.005*\"банкомат\" + 0.003*\"купюра\" + 0.002*\"деньга\" + 0.002*\"терминал\" + 0.002*\"рубль\" + 0.002*\"карта\" + 0.002*\"чек\" + 0.002*\"зачислить\" + 0.002*\"заявление\" + 0.002*\"сумма\"'),\n",
       " (2,\n",
       "  '0.001*\"вексель\" + 0.001*\"балканский\" + 0.001*\"окб\" + 0.001*\"жанна\" + 0.001*\"геленджик\" + 0.001*\"дилер\" + 0.000*\"бухгалтерский\" + 0.000*\"газ\" + 0.000*\"нарый\" + 0.000*\"третьяковский\"'),\n",
       " (3,\n",
       "  '0.001*\"рублёв\" + 0.001*\"регпалата\" + 0.001*\"норильск\" + 0.001*\"вебманя\" + 0.001*\"дзержинск\" + 0.001*\"миллиард\" + 0.001*\"гиляровский\" + 0.001*\"пдп\" + 0.001*\"декабрист\" + 0.001*\"полярный\"'),\n",
       " (4,\n",
       "  '0.003*\"кошелёк\" + 0.003*\"карта\" + 0.003*\"киви\" + 0.002*\"комиссия\" + 0.002*\"средство\" + 0.002*\"банкомат\" + 0.002*\"счёт\" + 0.002*\"деньга\" + 0.002*\"вклад\" + 0.002*\"рубль\"'),\n",
       " (5,\n",
       "  '0.005*\"вклад\" + 0.004*\"очередь\" + 0.004*\"карта\" + 0.003*\"офис\" + 0.003*\"отделение\" + 0.002*\"минута\" + 0.002*\"работать\" + 0.002*\"клиент\" + 0.002*\"очень\" + 0.002*\"касса\"'),\n",
       " (6,\n",
       "  '0.001*\"атб\" + 0.001*\"коломна\" + 0.001*\"тыр\" + 0.001*\"радищевский\" + 0.001*\"тсж\" + 0.001*\"люсиновский\" + 0.001*\"пополниться\" + 0.001*\"нештатный\" + 0.001*\"динар\" + 0.001*\"стромынка\"'),\n",
       " (7,\n",
       "  '0.004*\"карта\" + 0.004*\"кредит\" + 0.003*\"заявление\" + 0.003*\"деньга\" + 0.003*\"счёт\" + 0.003*\"платёж\" + 0.002*\"сбербанк\" + 0.002*\"сумма\" + 0.002*\"рубль\" + 0.002*\"отделение\"')]"
      ]
     },
     "execution_count": 65,
     "metadata": {},
     "output_type": "execute_result"
    }
   ],
   "source": [
    "lda_model10tfidf.print_topics(-1)"
   ]
  },
  {
   "cell_type": "markdown",
   "metadata": {},
   "source": [
    "очень много слов-шибок, слов-сокращений, географических названий, так как они редко встречаются за счет этого у них большой вес. здесь нужно удалить редкие слова на этапе векторизации слов и тогда результат должен быть лучше."
   ]
  },
  {
   "cell_type": "markdown",
   "metadata": {},
   "source": [
    "Также применим модель LSI для выделения 8 тем:"
   ]
  },
  {
   "cell_type": "code",
   "execution_count": 182,
   "metadata": {},
   "outputs": [],
   "source": [
    "lsi = lsimodel.LsiModel(corpus=corpus_scoredtfidf, id2word=dictionary_scored, num_topics=8)"
   ]
  },
  {
   "cell_type": "code",
   "execution_count": 183,
   "metadata": {},
   "outputs": [
    {
     "data": {
      "text/plain": [
       "[(0,\n",
       "  '0.197*\"карта\" + 0.131*\"кредит\" + 0.114*\"вклад\" + 0.110*\"заявление\" + 0.109*\"деньга\" + 0.106*\"счёт\" + 0.100*\"отделение\" + 0.096*\"рубль\" + 0.095*\"сбербанк\" + 0.095*\"сумма\"'),\n",
       " (1,\n",
       "  '-0.431*\"вклад\" + 0.332*\"кредит\" + 0.229*\"страховка\" + -0.177*\"очередь\" + 0.172*\"погашение\" + 0.171*\"платёж\" + 0.151*\"страхование\" + 0.134*\"задолженность\" + 0.122*\"сумма\" + 0.117*\"досрочный\"'),\n",
       " (2,\n",
       "  '-0.350*\"вклад\" + 0.323*\"карта\" + 0.293*\"банкомат\" + -0.247*\"страховка\" + -0.232*\"кредит\" + -0.164*\"страхование\" + -0.159*\"договор\" + 0.139*\"сбербанк\" + -0.115*\"очередь\" + 0.107*\"терминал\"'),\n",
       " (3,\n",
       "  '0.327*\"вклад\" + -0.264*\"карта\" + 0.244*\"банкомат\" + -0.239*\"заявка\" + 0.181*\"сумма\" + 0.175*\"рубль\" + 0.168*\"деньга\" + 0.161*\"средство\" + 0.150*\"платёж\" + 0.139*\"погашение\"'),\n",
       " (4,\n",
       "  '0.445*\"карта\" + 0.199*\"страховка\" + 0.176*\"комиссия\" + -0.164*\"номер\" + -0.153*\"терминал\" + 0.152*\"вклад\" + 0.142*\"страхование\" + -0.134*\"звонок\" + -0.132*\"банкомат\" + -0.119*\"очередь\"'),\n",
       " (5,\n",
       "  '-0.446*\"банкомат\" + -0.382*\"страховка\" + -0.228*\"страхование\" + 0.204*\"задолженность\" + 0.160*\"платёж\" + 0.148*\"вклад\" + -0.128*\"купюра\" + -0.126*\"страховой\" + 0.118*\"звонок\" + -0.117*\"деньга\"'),\n",
       " (6,\n",
       "  '0.248*\"вклад\" + -0.177*\"очередь\" + 0.159*\"заявка\" + 0.154*\"денежный\" + 0.154*\"средство\" + -0.148*\"банкомат\" + -0.147*\"кредит\" + -0.146*\"платёж\" + 0.138*\"заявление\" + -0.130*\"карта\"'),\n",
       " (7,\n",
       "  '-0.245*\"комиссия\" + 0.233*\"заявление\" + -0.218*\"перевод\" + -0.190*\"кошелёк\" + 0.186*\"карта\" + -0.184*\"услуга\" + 0.183*\"сбербанк\" + -0.155*\"киви\" + -0.138*\"страховка\" + -0.131*\"интернет\"')]"
      ]
     },
     "execution_count": 183,
     "metadata": {},
     "output_type": "execute_result"
    }
   ],
   "source": [
    "lsi.show_topics(8)"
   ]
  },
  {
   "cell_type": "markdown",
   "metadata": {},
   "source": [
    "не плохо выделены темы, можно попытаться интерпретировать, но нужно поработать с определением количества тем"
   ]
  },
  {
   "cell_type": "markdown",
   "metadata": {},
   "source": [
    "## 2.2 Прокомментировать темы с упоминанием банков"
   ]
  },
  {
   "cell_type": "markdown",
   "metadata": {},
   "source": [
    "для модели LDA с 10ю темами в последней теме есть упоминание про сбербанк с не самым высоким весом:\n",
    " -  '0.017*\"документ\" + 0.014*\"банк\" + 0.012*\"отделение\" + 0.011*\"день\" + 0.008*\"сбербанк\" + 0.008*\"ипотека\" + 0.008*\"менеджер\" + 0.007*\"сделка\" + 0.007*\"сказать\" + 0.007*\"кредит\"')\n",
    " - '0.021*\"банк\" + 0.014*\"отделение\" + 0.013*\"номер\" + 0.012*\"мой\" + 0.010*\"ответ\" + 0.009*\"дать\" + 0.009*\"это\" + 0.008*\"сотрудник\" + 0.008*\"сбербанк\" + 0.007*\"телефон\"'\n",
    "трудно выделить какую-то закономерность. думаю тут используется как имя нарицательное. судя по выбранным тематическим словам часто фигурирует слово \"отделение\", \"офис\", поэтому скорее речь идет про оффлайн отделения."
   ]
  },
  {
   "cell_type": "markdown",
   "metadata": {},
   "source": [
    "при увеличении количества тем увеличивается веса в целом и при этом и явно выдеяются количественно ключевые слова на первх позициях. Но, с большим количеством тем сложнее интерпретировать к какой одной главной теме относится отзыв, т.е. размывается"
   ]
  },
  {
   "cell_type": "markdown",
   "metadata": {},
   "source": [
    "# Часть 3. Классификаия текстов (бинарная с оценкой 5 или 1)"
   ]
  },
  {
   "cell_type": "markdown",
   "metadata": {},
   "source": [
    "## 3.1 Выберем тренировочную и тестовую последовательность для оценок 1 и 5 "
   ]
  },
  {
   "cell_type": "markdown",
   "metadata": {},
   "source": [
    "Очищенные и токенизированные сэмплы sent5, sent1, полученные ранее, возмьмем в одинаковых прополрциях (сбаланированные) и сложим в один список. Также сгенерируем y."
   ]
  },
  {
   "cell_type": "code",
   "execution_count": 94,
   "metadata": {},
   "outputs": [],
   "source": [
    "size_sample = 14700\n",
    "sample5 = sent5[:size_sample]\n",
    "sample1 = sent1[:size_sample]\n",
    "corpus_X = sample5 + sample1"
   ]
  },
  {
   "cell_type": "code",
   "execution_count": 95,
   "metadata": {},
   "outputs": [],
   "source": [
    "y5 = [5 for i in range(len(sample5))]\n",
    "y1 = [1 for i in range(len(sample1))]\n",
    "y = y5 + y1"
   ]
  },
  {
   "cell_type": "code",
   "execution_count": 97,
   "metadata": {},
   "outputs": [],
   "source": [
    "#пsent5 и sent1 уже токенизированы, но нам необходимо их опять склеить в строку, чтобы загрузить в BoW и tfidf\n",
    "sent51_joined = []\n",
    "sent51_joined = [' '.join(sentence) for sentence in corpus_X] "
   ]
  },
  {
   "cell_type": "code",
   "execution_count": 100,
   "metadata": {},
   "outputs": [],
   "source": [
    "vectorizerCV1 = CountVectorizer(ngram_range=(1, 1))\n",
    "vectorizerCV2 = CountVectorizer(ngram_range=(2, 2))\n",
    "vectorizerCV3 = CountVectorizer(ngram_range=(3, 3))\n",
    "Xcv1 = vectorizerCV1.fit_transform(sent51_joined)\n",
    "Xcv2 = vectorizerCV2.fit_transform(sent51_joined)\n",
    "Xcv3 = vectorizerCV3.fit_transform(sent51_joined)"
   ]
  },
  {
   "cell_type": "code",
   "execution_count": 110,
   "metadata": {},
   "outputs": [],
   "source": [
    "X_train_cv1, X_test_cv1, y_train_cv1, y_test_cv1 = train_test_split(Xcv1, y, test_size=0.2, random_state=42, stratify=y)"
   ]
  },
  {
   "cell_type": "markdown",
   "metadata": {},
   "source": [
    "## 3.2 Использую метод классификации ML постороим модель и оценим результаты для 1,2,3-грамм "
   ]
  },
  {
   "cell_type": "markdown",
   "metadata": {},
   "source": [
    "Используя для бинарной классификации логистическую регрессию в качестве baseline попробуем создать модель для предсказаний уни-, би-,три-грамм. В качестве матрицы фичей будем испоьлзовать самый простой BoW"
   ]
  },
  {
   "cell_type": "code",
   "execution_count": 111,
   "metadata": {},
   "outputs": [],
   "source": [
    "clf_cv1 = LogisticRegression(random_state=0).fit(X_train_cv1, y_train_cv1)"
   ]
  },
  {
   "cell_type": "code",
   "execution_count": 113,
   "metadata": {},
   "outputs": [
    {
     "data": {
      "text/plain": [
       "0.9568027210884353"
      ]
     },
     "execution_count": 113,
     "metadata": {},
     "output_type": "execute_result"
    }
   ],
   "source": [
    "clf_cv1.score(X_test_cv1, y_test_cv1)"
   ]
  },
  {
   "cell_type": "code",
   "execution_count": 115,
   "metadata": {},
   "outputs": [
    {
     "data": {
      "text/plain": [
       "0.9462585034013605"
      ]
     },
     "execution_count": 115,
     "metadata": {},
     "output_type": "execute_result"
    }
   ],
   "source": [
    "X_train_cv2, X_test_cv2, y_train_cv2, y_test_cv2 = train_test_split(Xcv2, y, test_size=0.2, random_state=42, stratify=y)\n",
    "clf_cv2 = LogisticRegression(random_state=0).fit(X_train_cv2, y_train_cv2)\n",
    "clf_cv2.score(X_test_cv2, y_test_cv2)"
   ]
  },
  {
   "cell_type": "code",
   "execution_count": 116,
   "metadata": {},
   "outputs": [
    {
     "data": {
      "text/plain": [
       "0.854421768707483"
      ]
     },
     "execution_count": 116,
     "metadata": {},
     "output_type": "execute_result"
    }
   ],
   "source": [
    "X_train_cv3, X_test_cv3, y_train_cv3, y_test_cv3 = train_test_split(Xcv3, y, test_size=0.2, random_state=42, stratify=y)\n",
    "clf_cv3 = LogisticRegression(random_state=0).fit(X_train_cv3, y_train_cv3)\n",
    "clf_cv3.score(X_test_cv3, y_test_cv3)"
   ]
  },
  {
   "cell_type": "markdown",
   "metadata": {},
   "source": [
    "Вывод: Используя выделение фич через Bag Of Words мы получаем довольно неплохую точность 95,7%, при этом с увеличением \"граммности\" результат становится хуже (биграмм - 94%, триграмм - 85%). Подозреваю, что это свзяано с огромной матрицей (увеличеный словарь) и небольшим корпусом, по сравнению с этим словарем."
   ]
  },
  {
   "cell_type": "markdown",
   "metadata": {},
   "source": [
    "Проверим резульаты для матрицы фичей, полученной с помощью tfidf:"
   ]
  },
  {
   "cell_type": "code",
   "execution_count": 117,
   "metadata": {},
   "outputs": [],
   "source": [
    "vectorizerTfidf1 = TfidfVectorizer(ngram_range=(1, 1))\n",
    "vectorizerTfidf2 = TfidfVectorizer(ngram_range=(2, 2))\n",
    "vectorizerTfidf3 = TfidfVectorizer(ngram_range=(3, 3))\n",
    "X_tfidf1 = vectorizerTfidf1.fit_transform(sent51_joined)\n",
    "X_tfidf2 = vectorizerTfidf2.fit_transform(sent51_joined)\n",
    "X_tfidf3 = vectorizerTfidf3.fit_transform(sent51_joined)"
   ]
  },
  {
   "cell_type": "code",
   "execution_count": 118,
   "metadata": {},
   "outputs": [
    {
     "data": {
      "text/plain": [
       "0.960204081632653"
      ]
     },
     "execution_count": 118,
     "metadata": {},
     "output_type": "execute_result"
    }
   ],
   "source": [
    "X_train_tfidf1, X_test_tfidf1, y_train_tfidf1, y_test_tfidf1 = train_test_split(X_tfidf1, y, test_size=0.2, random_state=42, stratify=y)\n",
    "clf_tfidf1 = LogisticRegression(random_state=0).fit(X_train_tfidf1, y_train_tfidf1)\n",
    "clf_tfidf1.score(X_test_tfidf1, y_test_tfidf1)"
   ]
  },
  {
   "cell_type": "code",
   "execution_count": 119,
   "metadata": {},
   "outputs": [
    {
     "data": {
      "text/plain": [
       "0.9285714285714286"
      ]
     },
     "execution_count": 119,
     "metadata": {},
     "output_type": "execute_result"
    }
   ],
   "source": [
    "X_train_tfidf2, X_test_tfidf2, y_train_tfidf2, y_test_tfidf2 = train_test_split(X_tfidf2, y, test_size=0.2, random_state=42, stratify=y)\n",
    "clf_tfidf2 = LogisticRegression(random_state=0).fit(X_train_tfidf2, y_train_tfidf2)\n",
    "clf_tfidf2.score(X_test_tfidf2, y_test_tfidf2)"
   ]
  },
  {
   "cell_type": "code",
   "execution_count": 121,
   "metadata": {},
   "outputs": [
    {
     "data": {
      "text/plain": [
       "0.9561224489795919"
      ]
     },
     "execution_count": 121,
     "metadata": {},
     "output_type": "execute_result"
    }
   ],
   "source": [
    "vectorizerTfidf12 = TfidfVectorizer(ngram_range=(1, 2))\n",
    "X_tfidf12 = vectorizerTfidf12.fit_transform(sent51_joined)\n",
    "X_train_tfidf12, X_test_tfidf12, y_train_tfidf12, y_test_tfidf12 = train_test_split(X_tfidf12, y, test_size=0.2, random_state=42, stratify=y)\n",
    "clf_tfidf12 = LogisticRegression(random_state=0).fit(X_train_tfidf12, y_train_tfidf12)\n",
    "clf_tfidf12.score(X_test_tfidf12, y_test_tfidf12)"
   ]
  },
  {
   "cell_type": "markdown",
   "metadata": {},
   "source": [
    "Вывод: результат для униграмм, получился лучше, чем при BoW, но не значительно. При ипоьлзовании би-,три-грамм результат становится хуже. Также мы попробовали переменные граммы от 1 до 2 и результат оказался хуже, чем для уни-грамм"
   ]
  },
  {
   "cell_type": "markdown",
   "metadata": {},
   "source": [
    "## 3.3 Сравним, как изменяется качество решения задачи при испоьлзовании скрытых тем в качестве признаков "
   ]
  },
  {
   "cell_type": "markdown",
   "metadata": {},
   "source": [
    "### 3.3.1 формирование матрицы фич с помощью tfidf и сингурялрное разложение"
   ]
  },
  {
   "cell_type": "code",
   "execution_count": 151,
   "metadata": {},
   "outputs": [],
   "source": [
    "svd_ng1cmp10 = TruncatedSVD(n_components=100, n_iter=7, random_state=42)\n",
    "X_svd_ng1cmp10= svd_ng1cmp10.fit_transform(X_tfidf1)"
   ]
  },
  {
   "cell_type": "code",
   "execution_count": 140,
   "metadata": {},
   "outputs": [
    {
     "data": {
      "text/plain": [
       "(29400, 10)"
      ]
     },
     "execution_count": 140,
     "metadata": {},
     "output_type": "execute_result"
    }
   ],
   "source": [
    "X_svd_ng1cmp10.shape"
   ]
  },
  {
   "cell_type": "code",
   "execution_count": 156,
   "metadata": {},
   "outputs": [
    {
     "data": {
      "text/plain": [
       "(29400, 46067)"
      ]
     },
     "execution_count": 156,
     "metadata": {},
     "output_type": "execute_result"
    }
   ],
   "source": [
    "X_tfidf1.shape"
   ]
  },
  {
   "cell_type": "code",
   "execution_count": 142,
   "metadata": {},
   "outputs": [
    {
     "data": {
      "text/plain": [
       "0.8690476190476191"
      ]
     },
     "execution_count": 142,
     "metadata": {},
     "output_type": "execute_result"
    }
   ],
   "source": [
    "X_train_svd10, X_test_svd10, y_train_svd10, y_test_svd10 = train_test_split(X_svd_ng1cmp10, y, test_size=0.2, random_state=42, stratify=y)\n",
    "clf_svd10 = LogisticRegression(random_state=0).fit(X_train_svd10, y_train_svd10)\n",
    "clf_svd10.score(X_test_svd10, y_test_svd10)"
   ]
  },
  {
   "cell_type": "markdown",
   "metadata": {},
   "source": [
    "Рассчитаем точность в зависимости от количества выделенных компонент и построи граффик"
   ]
  },
  {
   "cell_type": "code",
   "execution_count": 153,
   "metadata": {},
   "outputs": [],
   "source": [
    "res_svd = []\n",
    "comp_iter = [10,30,60,100,200,300]\n",
    "for ncomp in comp_iter:\n",
    "    svd_ng1 = TruncatedSVD(n_components=ncomp, n_iter=7, random_state=42)\n",
    "    X_svd_ng1 = svd_ng1.fit_transform(X_tfidf1)\n",
    "    X_train_svd, X_test_svd, y_train_svd, y_test_svd = train_test_split(X_svd_ng1, y, test_size=0.2, random_state=42, stratify=y)\n",
    "    clf_svd = LogisticRegression(random_state=0).fit(X_train_svd, y_train_svd)\n",
    "    res_svd.append(clf_svd.score(X_test_svd, y_test_svd))"
   ]
  },
  {
   "cell_type": "code",
   "execution_count": 173,
   "metadata": {},
   "outputs": [
    {
     "name": "stdout",
     "output_type": "stream",
     "text": [
      "              precision    recall  f1-score   support\n",
      "\n",
      "           1       0.94      0.97      0.96      2940\n",
      "           5       0.97      0.94      0.96      2940\n",
      "\n",
      "    accuracy                           0.96      5880\n",
      "   macro avg       0.96      0.96      0.96      5880\n",
      "weighted avg       0.96      0.96      0.96      5880\n",
      "\n"
     ]
    }
   ],
   "source": [
    "y_pred_svd = clf_svd.predict(X_test_svd)\n",
    "target_names = ['Score 5', 'Score 1']\n",
    "print(classification_report(y_test_svd, y_pred_svd))"
   ]
  },
  {
   "cell_type": "code",
   "execution_count": 165,
   "metadata": {},
   "outputs": [
    {
     "data": {
      "image/png": "[encoded data removed]",
      "text/plain": [
       "<Figure size 432x288 with 1 Axes>"
      ]
     },
     "metadata": {
      "needs_background": "light"
     },
     "output_type": "display_data"
    }
   ],
   "source": [
    "plt.title('Зависимость точности классификации от количества выделенных компонент в trunced SVD')\n",
    "plt.xlabel('n_component')\n",
    "plt.ylabel('Accuracy of Logistic regression classification on tSVD')\n",
    "plt.plot(comp_iter, res_svd)\n",
    "plt.show()"
   ]
  },
  {
   "cell_type": "markdown",
   "metadata": {},
   "source": [
    "Вывод: уменьшив, количество фич с помощью сингурярного разложения truncated SVD, мы получили почти сходный результат, но модель будет работать быстрее. Уменьшение признаков с 46067 до 200 - в 230 раз. Пострадает интерпретируемость результатов. Увеличение количества итераций влияет на результат не значительно"
   ]
  },
  {
   "cell_type": "markdown",
   "metadata": {},
   "source": [
    "### 3.3.2 формирование матрицы фич с помощью tfidf и тематические модели LDA"
   ]
  },
  {
   "cell_type": "code",
   "execution_count": 160,
   "metadata": {},
   "outputs": [],
   "source": [
    "lda10 = LatentDirichletAllocation(n_components=10, random_state=42)\n",
    "X_lda10 = lda10.fit_transform(X_tfidf1)"
   ]
  },
  {
   "cell_type": "code",
   "execution_count": 163,
   "metadata": {},
   "outputs": [
    {
     "data": {
      "text/plain": [
       "0.6506802721088435"
      ]
     },
     "execution_count": 163,
     "metadata": {},
     "output_type": "execute_result"
    }
   ],
   "source": [
    "X_train_lda10, X_test_lda10, y_train_lda10, y_test_lda10 = train_test_split(X_lda10, y, test_size=0.2, random_state=42, stratify=y)\n",
    "clf_lda10 = LogisticRegression(random_state=0).fit(X_train_lda10, y_train_lda10)\n",
    "clf_lda10.score(X_test_lda10, y_test_lda10)"
   ]
  },
  {
   "cell_type": "code",
   "execution_count": 168,
   "metadata": {},
   "outputs": [],
   "source": [
    "res_lda = []\n",
    "comp_iter = [10,30,60,100,200,300]\n",
    "for ncomp in comp_iter:\n",
    "    lda = LatentDirichletAllocation(n_components=ncomp, random_state=42)\n",
    "    X_lda = lda.fit_transform(X_tfidf1)\n",
    "    X_train_lda, X_test_lda, y_train_lda, y_test_lda = train_test_split(X_lda, y, test_size=0.2, random_state=42, stratify=y)\n",
    "    clf_lda = LogisticRegression(random_state=0).fit(X_train_lda, y_train_lda)\n",
    "    res_lda.append(clf_lda.score(X_test_lda, y_test_lda))"
   ]
  },
  {
   "cell_type": "code",
   "execution_count": 174,
   "metadata": {},
   "outputs": [
    {
     "name": "stdout",
     "output_type": "stream",
     "text": [
      "              precision    recall  f1-score   support\n",
      "\n",
      "           1       0.85      0.84      0.85      2940\n",
      "           5       0.84      0.86      0.85      2940\n",
      "\n",
      "    accuracy                           0.85      5880\n",
      "   macro avg       0.85      0.85      0.85      5880\n",
      "weighted avg       0.85      0.85      0.85      5880\n",
      "\n"
     ]
    }
   ],
   "source": [
    "y_pred_lda = clf_lda.predict(X_test_lda)\n",
    "target_names = ['Score 5', 'Score 1']\n",
    "print(classification_report(y_test_lda, y_pred_lda))"
   ]
  },
  {
   "cell_type": "code",
   "execution_count": 169,
   "metadata": {},
   "outputs": [
    {
     "data": {
      "image/png": "[encoded data removed]",
      "text/plain": [
       "<Figure size 432x288 with 1 Axes>"
      ]
     },
     "metadata": {
      "needs_background": "light"
     },
     "output_type": "display_data"
    }
   ],
   "source": [
    "plt.title('Зависимость точности классификации от количества выделенных компонент в LDA')\n",
    "plt.xlabel('n_component')\n",
    "plt.ylabel('Accuracy of Logistic regression classification on LDA')\n",
    "plt.plot(comp_iter, res_lda)\n",
    "plt.show()"
   ]
  },
  {
   "cell_type": "markdown",
   "metadata": {},
   "source": [
    "Вывод: tSVD гораздо более быстрый и показывает лучшие резуьлтаты при выделении того же количества компонент"
   ]
  },
  {
   "cell_type": "code",
   "execution_count": null,
   "metadata": {},
   "outputs": [],
   "source": []
  },
  {
   "cell_type": "code",
   "execution_count": null,
   "metadata": {},
   "outputs": [],
   "source": []
  },
  {
   "cell_type": "code",
   "execution_count": null,
   "metadata": {},
   "outputs": [],
   "source": []
  }
 ],
 "metadata": {
  "kernelspec": {
   "display_name": "Python 3",
   "language": "python",
   "name": "python3"
  },
  "language_info": {
   "codemirror_mode": {
    "name": "ipython",
    "version": 3
   },
   "file_extension": ".py",
   "mimetype": "text/x-python",
   "name": "python",
   "nbconvert_exporter": "python",
   "pygments_lexer": "ipython3",
   "version": "3.7.4"
  }
 },
 "nbformat": 4,
 "nbformat_minor": 2
}
